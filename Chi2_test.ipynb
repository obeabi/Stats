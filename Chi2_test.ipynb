{
  "nbformat": 4,
  "nbformat_minor": 0,
  "metadata": {
    "colab": {
      "provenance": [],
      "authorship_tag": "ABX9TyPtLNigi2OhDXiYI3/e4nI0",
      "include_colab_link": true
    },
    "kernelspec": {
      "name": "python3",
      "display_name": "Python 3"
    },
    "language_info": {
      "name": "python"
    }
  },
  "cells": [
    {
      "cell_type": "markdown",
      "metadata": {
        "id": "view-in-github",
        "colab_type": "text"
      },
      "source": [
        "<a href=\"https://colab.research.google.com/github/obeabi/Stats/blob/main/Chi2_test.ipynb\" target=\"_parent\"><img src=\"https://colab.research.google.com/assets/colab-badge.svg\" alt=\"Open In Colab\"/></a>"
      ]
    },
    {
      "cell_type": "code",
      "execution_count": 5,
      "metadata": {
        "colab": {
          "base_uri": "https://localhost:8080/"
        },
        "id": "Wv3A4JkWhVJi",
        "outputId": "119e319f-1321-4c92-b22f-9e52933e1f90"
      },
      "outputs": [
        {
          "output_type": "execute_result",
          "data": {
            "text/plain": [
              "5.991464547107979"
            ]
          },
          "metadata": {},
          "execution_count": 5
        }
      ],
      "source": [
        "import scipy\n",
        "from scipy.stats import chisquare, chi2\n",
        "chi_crticial = chi2.ppf(q= 1-0.05, df = 3-1)\n",
        "chi_crticial"
      ]
    },
    {
      "cell_type": "code",
      "source": [
        "import scipy\n",
        "from scipy.stats import chisquare, chi2\n",
        "chi_crticial = chi2.ppf(q= 1-0.05, df = 6)\n",
        "chi_crticial"
      ],
      "metadata": {
        "colab": {
          "base_uri": "https://localhost:8080/"
        },
        "id": "7hFwNskohf1I",
        "outputId": "2a66f1a3-2193-4e00-9fee-6f8856500d28"
      },
      "execution_count": 1,
      "outputs": [
        {
          "output_type": "execute_result",
          "data": {
            "text/plain": [
              "12.591587243743977"
            ]
          },
          "metadata": {},
          "execution_count": 1
        }
      ]
    },
    {
      "cell_type": "code",
      "source": [
        "# creating data\n",
        "data = [[21,20, 16], [135, 71,35], [158,62,35]]\n",
        "\n",
        "from scipy.stats import chi2_contingency\n",
        "stat, p, dof, expected = chi2_contingency(data)\n",
        "\n",
        "# interpret p-value\n",
        "alpha = 0.05\n",
        "print(\"p value is \" + str(p))\n",
        "if p <= alpha:\n",
        "    print('Dependent (reject H0)')\n",
        "else:\n",
        "    print('Independent (H0 holds true)')"
      ],
      "metadata": {
        "colab": {
          "base_uri": "https://localhost:8080/"
        },
        "id": "pQMZzaLihncL",
        "outputId": "a348cbde-7bc9-4989-e439-500c66914a5f"
      },
      "execution_count": 4,
      "outputs": [
        {
          "output_type": "stream",
          "name": "stdout",
          "text": [
            "p value is 0.006902157005617694\n",
            "Dependent (reject H0)\n"
          ]
        }
      ]
    },
    {
      "cell_type": "code",
      "source": [
        "# creating data\n",
        "data = [[23,27], [11, 39]]\n",
        "\n",
        "from scipy.stats import chi2_contingency\n",
        "stat, p, dof, expected = chi2_contingency(data, correction= False)\n",
        "\n",
        "# interpret p-value\n",
        "alpha = 0.05\n",
        "print(\"p value is \" + str(p))\n",
        "if p <= alpha:\n",
        "    print('Dependent (reject H0)')\n",
        "else:\n",
        "    print('Independent (H0 holds true)')\n",
        "\n"
      ],
      "metadata": {
        "colab": {
          "base_uri": "https://localhost:8080/"
        },
        "id": "FRGul1lJHJd-",
        "outputId": "b647a5bc-b84e-4de1-8ddf-2583b1c1b018"
      },
      "execution_count": 14,
      "outputs": [
        {
          "output_type": "stream",
          "name": "stdout",
          "text": [
            "p value is 0.011302580306322238\n",
            "Dependent (reject H0)\n"
          ]
        }
      ]
    },
    {
      "cell_type": "code",
      "source": [
        "expected"
      ],
      "metadata": {
        "colab": {
          "base_uri": "https://localhost:8080/"
        },
        "id": "knn95Ns5HtUE",
        "outputId": "49509e3e-f42e-4869-c897-df30955efa12"
      },
      "execution_count": 15,
      "outputs": [
        {
          "output_type": "execute_result",
          "data": {
            "text/plain": [
              "array([[17., 33.],\n",
              "       [17., 33.]])"
            ]
          },
          "metadata": {},
          "execution_count": 15
        }
      ]
    },
    {
      "cell_type": "code",
      "source": [
        "# creating data\n",
        "data = [[23,27], [11, 39]]\n",
        "\n",
        "from scipy.stats import fisher_exact\n",
        "odd_ratio, p_value = fisher_exact(data, alternative='two-sided')\n",
        "\n",
        "print('odd ratio is : ' + str(odd_ratio))\n",
        "print('p_value is : ' + str(p_value))"
      ],
      "metadata": {
        "colab": {
          "base_uri": "https://localhost:8080/"
        },
        "id": "dpinVISOH2EQ",
        "outputId": "4a112fea-a2f8-4bef-8701-61e83e818857"
      },
      "execution_count": 13,
      "outputs": [
        {
          "output_type": "stream",
          "name": "stdout",
          "text": [
            "odd ratio is : 3.0202020202020203\n",
            "p_value is : 0.019557627689606213\n"
          ]
        }
      ]
    }
  ]
}