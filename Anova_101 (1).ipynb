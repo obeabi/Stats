{
 "cells": [
  {
   "cell_type": "code",
   "execution_count": 4,
   "id": "a6f97232",
   "metadata": {},
   "outputs": [
    {
     "name": "stdout",
     "output_type": "stream",
     "text": [
      "libraries installed succesfully!\n"
     ]
    }
   ],
   "source": [
    "# Install libraries\n",
    "import pandas as pd\n",
    "import numpy as np\n",
    "import statsmodels\n",
    "\n",
    "import statsmodels.api as sm\n",
    "from statsmodels.formula.api import ols\n",
    "import scipy \n",
    "from scipy.stats import mannwhitneyu, fisher_exact, ttest_ind\n",
    "\n",
    "import seaborn as sns\n",
    "import matplotlib.pyplot as plt\n",
    "\n",
    "from statsmodels.graphics.mosaicplot import mosaic\n",
    "%matplotlib inline\n",
    "\n",
    "plt.rcParams['figure.figsize'] = (8.0, 7.0) # set default size of plots\n",
    "plt.rcParams['image.interpolation'] = 'nearest'\n",
    "plt.rcParams['image.cmap'] = 'gray'\n",
    "\n",
    "\n",
    "print(\"libraries installed succesfully!\")"
   ]
  },
  {
   "cell_type": "code",
   "execution_count": 20,
   "id": "632a15f7",
   "metadata": {},
   "outputs": [
    {
     "data": {
      "text/html": [
       "<div>\n",
       "<style scoped>\n",
       "    .dataframe tbody tr th:only-of-type {\n",
       "        vertical-align: middle;\n",
       "    }\n",
       "\n",
       "    .dataframe tbody tr th {\n",
       "        vertical-align: top;\n",
       "    }\n",
       "\n",
       "    .dataframe thead th {\n",
       "        text-align: right;\n",
       "    }\n",
       "</style>\n",
       "<table border=\"1\" class=\"dataframe\">\n",
       "  <thead>\n",
       "    <tr style=\"text-align: right;\">\n",
       "      <th></th>\n",
       "      <th>Unnamed: 0</th>\n",
       "      <th>Group</th>\n",
       "      <th>Contour</th>\n",
       "      <th>Depth</th>\n",
       "      <th>Gp</th>\n",
       "      <th>Block</th>\n",
       "      <th>pH</th>\n",
       "      <th>N</th>\n",
       "      <th>Dens</th>\n",
       "      <th>P</th>\n",
       "      <th>Ca</th>\n",
       "      <th>Mg</th>\n",
       "      <th>K</th>\n",
       "      <th>Na</th>\n",
       "      <th>Conduc</th>\n",
       "    </tr>\n",
       "  </thead>\n",
       "  <tbody>\n",
       "    <tr>\n",
       "      <th>0</th>\n",
       "      <td>1</td>\n",
       "      <td>1</td>\n",
       "      <td>Top</td>\n",
       "      <td>0-10</td>\n",
       "      <td>T0</td>\n",
       "      <td>1</td>\n",
       "      <td>5.40</td>\n",
       "      <td>0.188</td>\n",
       "      <td>0.92</td>\n",
       "      <td>215</td>\n",
       "      <td>16.35</td>\n",
       "      <td>7.65</td>\n",
       "      <td>0.72</td>\n",
       "      <td>1.14</td>\n",
       "      <td>1.09</td>\n",
       "    </tr>\n",
       "    <tr>\n",
       "      <th>1</th>\n",
       "      <td>2</td>\n",
       "      <td>1</td>\n",
       "      <td>Top</td>\n",
       "      <td>0-10</td>\n",
       "      <td>T0</td>\n",
       "      <td>2</td>\n",
       "      <td>5.65</td>\n",
       "      <td>0.165</td>\n",
       "      <td>1.04</td>\n",
       "      <td>208</td>\n",
       "      <td>12.25</td>\n",
       "      <td>5.15</td>\n",
       "      <td>0.71</td>\n",
       "      <td>0.94</td>\n",
       "      <td>1.35</td>\n",
       "    </tr>\n",
       "    <tr>\n",
       "      <th>2</th>\n",
       "      <td>3</td>\n",
       "      <td>1</td>\n",
       "      <td>Top</td>\n",
       "      <td>0-10</td>\n",
       "      <td>T0</td>\n",
       "      <td>3</td>\n",
       "      <td>5.14</td>\n",
       "      <td>0.260</td>\n",
       "      <td>0.95</td>\n",
       "      <td>300</td>\n",
       "      <td>13.02</td>\n",
       "      <td>5.68</td>\n",
       "      <td>0.68</td>\n",
       "      <td>0.60</td>\n",
       "      <td>1.41</td>\n",
       "    </tr>\n",
       "    <tr>\n",
       "      <th>3</th>\n",
       "      <td>4</td>\n",
       "      <td>1</td>\n",
       "      <td>Top</td>\n",
       "      <td>0-10</td>\n",
       "      <td>T0</td>\n",
       "      <td>4</td>\n",
       "      <td>5.14</td>\n",
       "      <td>0.169</td>\n",
       "      <td>1.10</td>\n",
       "      <td>248</td>\n",
       "      <td>11.92</td>\n",
       "      <td>7.88</td>\n",
       "      <td>1.09</td>\n",
       "      <td>1.01</td>\n",
       "      <td>1.64</td>\n",
       "    </tr>\n",
       "    <tr>\n",
       "      <th>4</th>\n",
       "      <td>5</td>\n",
       "      <td>2</td>\n",
       "      <td>Top</td>\n",
       "      <td>30-Oct</td>\n",
       "      <td>T1</td>\n",
       "      <td>1</td>\n",
       "      <td>5.14</td>\n",
       "      <td>0.164</td>\n",
       "      <td>1.12</td>\n",
       "      <td>174</td>\n",
       "      <td>14.17</td>\n",
       "      <td>8.12</td>\n",
       "      <td>0.70</td>\n",
       "      <td>2.17</td>\n",
       "      <td>1.85</td>\n",
       "    </tr>\n",
       "  </tbody>\n",
       "</table>\n",
       "</div>"
      ],
      "text/plain": [
       "   Unnamed: 0  Group Contour   Depth  Gp  Block    pH      N  Dens    P  \\\n",
       "0           1      1     Top    0-10  T0      1  5.40  0.188  0.92  215   \n",
       "1           2      1     Top    0-10  T0      2  5.65  0.165  1.04  208   \n",
       "2           3      1     Top    0-10  T0      3  5.14  0.260  0.95  300   \n",
       "3           4      1     Top    0-10  T0      4  5.14  0.169  1.10  248   \n",
       "4           5      2     Top  30-Oct  T1      1  5.14  0.164  1.12  174   \n",
       "\n",
       "      Ca    Mg     K    Na  Conduc  \n",
       "0  16.35  7.65  0.72  1.14    1.09  \n",
       "1  12.25  5.15  0.71  0.94    1.35  \n",
       "2  13.02  5.68  0.68  0.60    1.41  \n",
       "3  11.92  7.88  1.09  1.01    1.64  \n",
       "4  14.17  8.12  0.70  2.17    1.85  "
      ]
     },
     "execution_count": 20,
     "metadata": {},
     "output_type": "execute_result"
    }
   ],
   "source": [
    "# load dataset\n",
    "df = pd.read_csv('Soils.csv', encoding = 'unicode_escape')\n",
    "df.head()"
   ]
  },
  {
   "cell_type": "markdown",
   "id": "2351e018",
   "metadata": {},
   "source": [
    "## One-Way Anova : Relationship between soil PH and depth"
   ]
  },
  {
   "cell_type": "code",
   "execution_count": 6,
   "id": "412127f8",
   "metadata": {},
   "outputs": [
    {
     "name": "stdout",
     "output_type": "stream",
     "text": [
      "            df     sum_sq   mean_sq          F        PR(>F)\n",
      "Depth      3.0  14.958973  4.986324  35.068327  9.810893e-12\n",
      "Residual  44.0   6.256308  0.142189        NaN           NaN\n"
     ]
    }
   ],
   "source": [
    "mod = ols('pH~Depth', data = df). fit()\n",
    "\n",
    "# Analysis of variance (one-way)\n",
    "\n",
    "aov = sm.stats.anova_lm(mod, type = 2)\n",
    "print(aov)"
   ]
  },
  {
   "cell_type": "markdown",
   "id": "49ea28a5",
   "metadata": {},
   "source": [
    "#### We see that the p-vale (PR )for depth is 9.81e-12 is << 0.05 hence we can reject the null hypothesis that there is no relatioship between soil PH and depth. Hence there is relationship between soil PH and depth."
   ]
  },
  {
   "cell_type": "code",
   "execution_count": 11,
   "id": "60f4ac91",
   "metadata": {},
   "outputs": [
    {
     "data": {
      "image/png": "[encoded data removed]",
      "text/plain": [
       "<Figure size 576x504 with 1 Axes>"
      ]
     },
     "metadata": {
      "needs_background": "light"
     },
     "output_type": "display_data"
    }
   ],
   "source": [
    "# Let us confirm this\n",
    "df1 = df[['Depth', 'pH']]\n",
    "\n",
    "\n",
    "# box plot for marks column\n",
    "df1.boxplot(column='pH', by = 'Depth')\n",
    "plt.show()\n",
    "\n"
   ]
  },
  {
   "cell_type": "markdown",
   "id": "c59bb819",
   "metadata": {},
   "source": [
    "## Two-Way ANova : Relationship between soil PH and dept & Contour"
   ]
  },
  {
   "cell_type": "code",
   "execution_count": 14,
   "id": "c3ca0a0a",
   "metadata": {},
   "outputs": [
    {
     "name": "stdout",
     "output_type": "stream",
     "text": [
      "            df     sum_sq   mean_sq          F        PR(>F)\n",
      "Depth      3.0  14.958973  4.986324  34.929618  1.736182e-11\n",
      "Contour    2.0   0.260662  0.130331   0.912981  4.091423e-01\n",
      "Residual  42.0   5.995646  0.142753        NaN           NaN\n"
     ]
    }
   ],
   "source": [
    "mod1 = ols('pH~Depth+Contour', data = df).fit()\n",
    "\n",
    "# Analysis of variance (one-way)\n",
    "aov1 = sm.stats.anova_lm(mod1, type = 2)\n",
    "print(aov1)"
   ]
  },
  {
   "cell_type": "markdown",
   "id": "ff8529cf",
   "metadata": {},
   "source": [
    "#### We see that the p-vale (PR )for contour is 4.09e-1 is >> 0.05 hence we cannot reject the null hypothesis that there is no relatioship between soil PH and contour. Hence there is no relationship between soil PH and contour."
   ]
  },
  {
   "cell_type": "code",
   "execution_count": 16,
   "id": "92827edb",
   "metadata": {},
   "outputs": [
    {
     "data": {
      "image/png": "[encoded data removed]",
      "text/plain": [
       "<Figure size 576x504 with 1 Axes>"
      ]
     },
     "metadata": {
      "needs_background": "light"
     },
     "output_type": "display_data"
    }
   ],
   "source": [
    "# Let us confirm this by a box plot for Contour column\n",
    "df.boxplot(column='pH', by = 'Contour')\n",
    "plt.show()\n"
   ]
  },
  {
   "cell_type": "markdown",
   "id": "f5978932",
   "metadata": {},
   "source": [
    "## Two-Way Anova : Relationship between soil PH and dept & Block ( Including interaction term)"
   ]
  },
  {
   "cell_type": "code",
   "execution_count": 17,
   "id": "65ecd286",
   "metadata": {},
   "outputs": [
    {
     "name": "stdout",
     "output_type": "stream",
     "text": [
      "               df     sum_sq   mean_sq          F        PR(>F)\n",
      "Depth         3.0  14.958973  4.986324  37.786849  9.459884e-12\n",
      "Block         1.0   0.796954  0.796954   6.039393  1.842085e-02\n",
      "Depth:Block   3.0   0.180985  0.060328   0.457173  7.137201e-01\n",
      "Residual     40.0   5.278370  0.131959        NaN           NaN\n"
     ]
    }
   ],
   "source": [
    "mod1 = ols('pH~Depth+Block+Depth*Block', data = df).fit()\n",
    "\n",
    "# Analysis of variance (one-way)\n",
    "aov1 = sm.stats.anova_lm(mod1, type = 2)\n",
    "print(aov1)"
   ]
  },
  {
   "cell_type": "markdown",
   "id": "1b0a98da",
   "metadata": {},
   "source": [
    "#### We see that the p-vale (PR )for depth and block is  is << 0.05 hence we can reject the null hypothesis that there is no relatioship between soil PH and depth and block. Hence there is relationship between soil PH and depth and block. Th einteraction term is however not stat significant."
   ]
  },
  {
   "cell_type": "code",
   "execution_count": 18,
   "id": "0bfc75d3",
   "metadata": {},
   "outputs": [
    {
     "data": {
      "image/png": "[encoded data removed]",
      "text/plain": [
       "<Figure size 576x504 with 1 Axes>"
      ]
     },
     "metadata": {
      "needs_background": "light"
     },
     "output_type": "display_data"
    }
   ],
   "source": [
    "# Let us confirm this by a box plot for Contour column\n",
    "df.boxplot(column='pH', by = 'Block')\n",
    "plt.show()"
   ]
  },
  {
   "cell_type": "code",
   "execution_count": null,
   "id": "e10bd62d",
   "metadata": {},
   "outputs": [],
   "source": []
  }
 ],
 "metadata": {
  "kernelspec": {
   "display_name": "Python 3 (ipykernel)",
   "language": "python",
   "name": "python3"
  },
  "language_info": {
   "codemirror_mode": {
    "name": "ipython",
    "version": 3
   },
   "file_extension": ".py",
   "mimetype": "text/x-python",
   "name": "python",
   "nbconvert_exporter": "python",
   "pygments_lexer": "ipython3",
   "version": "3.9.7"
  }
 },
 "nbformat": 4,
 "nbformat_minor": 5
}
