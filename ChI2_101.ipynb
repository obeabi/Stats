{
  "nbformat": 4,
  "nbformat_minor": 0,
  "metadata": {
    "colab": {
      "provenance": [],
      "authorship_tag": "ABX9TyOVquDhHuFslQ+TLmFyH4u7",
      "include_colab_link": true
    },
    "kernelspec": {
      "name": "python3",
      "display_name": "Python 3"
    },
    "language_info": {
      "name": "python"
    }
  },
  "cells": [
    {
      "cell_type": "markdown",
      "metadata": {
        "id": "view-in-github",
        "colab_type": "text"
      },
      "source": [
        "<a href=\"https://colab.research.google.com/github/obeabi/Stats/blob/main/ChI2_101.ipynb\" target=\"_parent\"><img src=\"https://colab.research.google.com/assets/colab-badge.svg\" alt=\"Open In Colab\"/></a>"
      ]
    },
    {
      "cell_type": "markdown",
      "source": [
        "## Hands-on: Non-Parametric test with Python\n",
        "## Date: 24th April 2023\n",
        "## Prepared by : Abiola Obembe\n",
        "## Sponsored by : Analysts HQ"
      ],
      "metadata": {
        "id": "qNQ8vDqugECH"
      }
    },
    {
      "cell_type": "code",
      "source": [
        "# import libraries\n",
        "# Install dependcies\n",
        "import numpy as np\n",
        "import pandas as pd\n",
        "import matplotlib.pyplot as plt\n",
        "import seaborn as sns\n",
        "import random\n",
        "\n",
        "from scipy.stats import chi2\n",
        "\n",
        "plt.rcParams['figure.figsize'] = (12.0, 8.0) # set default size of plots\n",
        "plt.rcParams['image.interpolation'] = 'nearest'\n",
        "plt.rcParams['image.cmap'] = 'gray'\n",
        "%matplotlib inline\n",
        "print(\"libraries installed succesfully!\")"
      ],
      "metadata": {
        "colab": {
          "base_uri": "https://localhost:8080/"
        },
        "id": "bltFgjUkNDe2",
        "outputId": "a3e46be3-a512-48a5-acd5-8bf8a3399e34"
      },
      "execution_count": 1,
      "outputs": [
        {
          "output_type": "stream",
          "name": "stdout",
          "text": [
            "libraries installed succesfully!\n"
          ]
        }
      ]
    },
    {
      "cell_type": "markdown",
      "source": [
        "## For alpha = 0.05"
      ],
      "metadata": {
        "id": "J0RNv_rOQnhB"
      }
    },
    {
      "cell_type": "code",
      "source": [
        "# Define the observed and expected values\n",
        "observed =np.array([41, 59])\n",
        "expected = np.array([33, 67])\n",
        "\n",
        "# calculate chi-squared statistics\n",
        "chi2_stats = sum((observed - expected)**2/expected)\n",
        "print(\"The chi-square test statistics is :\" , chi2_stats)\n",
        "\n",
        "# Calculate degree of freedom\n",
        "df = len(observed) -1\n",
        "print('\\nThe degree of freedom is :', df)\n",
        "\n",
        "\n",
        "# criical chi-square for alpha value of alpha\n",
        "alpha = 0.05\n",
        "\n",
        "crit_value = chi2.ppf(1-alpha, df)\n",
        "\n",
        "print(\"The critical chi-squared value is :\", crit_value)\n",
        "\n",
        "\n",
        "def chi2_decision(crit_value, chi_stats,df):\n",
        "  p_value = 1 - chi2.cdf(chi2_stats, df)\n",
        "  if chi_stats > crit_value:\n",
        "    print('\\nReject the Null Hypothesis')\n",
        "  else:\n",
        "    print(\"\\nFailed to gather sufcient evidence to reject the null hypothesis\")\n",
        "  return p_value\n",
        "\n",
        "# test code\n",
        "if __name__ == '__main__':\n",
        " p_value = chi2_decision(crit_value, chi2_stats,df)\n",
        " print(\"\\nThe p_value is :\", p_value)"
      ],
      "metadata": {
        "colab": {
          "base_uri": "https://localhost:8080/"
        },
        "id": "0cFJz5psNerl",
        "outputId": "cf162628-c0a1-40ce-b77c-b491fdfa0794"
      },
      "execution_count": 2,
      "outputs": [
        {
          "output_type": "stream",
          "name": "stdout",
          "text": [
            "The chi-square test statistics is : 2.8946178199909545\n",
            "\n",
            "The degree of freedom is : 1\n",
            "The critical chi-squared value is : 3.841458820694124\n",
            "\n",
            "Failed to gather sufcient evidence to reject the null hypothesis\n",
            "\n",
            "The p_value is : 0.08887585044058066\n"
          ]
        }
      ]
    },
    {
      "cell_type": "markdown",
      "source": [
        "## For alpha = 0.01"
      ],
      "metadata": {
        "id": "YAC9_qwqQr3Q"
      }
    },
    {
      "cell_type": "code",
      "source": [
        "# Define the observed and expected values\n",
        "observed =np.array([41, 59])\n",
        "expected = np.array([33, 67])\n",
        "\n",
        "# calculate chi-squared statistics\n",
        "chi2_stats = sum((observed - expected)**2/expected)\n",
        "print(\"The chi-square test statistics is :\" , chi2_stats)\n",
        "\n",
        "# Calculate degree of freedom\n",
        "df = len(observed) -1\n",
        "print('\\nThe degree of freedom is :', df)\n",
        "\n",
        "\n",
        "# criical chi-square for alpha value of alpha\n",
        "alpha = 0.01\n",
        "\n",
        "crit_value = chi2.ppf(1-alpha, df)\n",
        "\n",
        "print(\"The critical chi-squared value is :\", crit_value)\n",
        "\n",
        "\n",
        "def chi2_decision(crit_value, chi_stats,df):\n",
        "  p_value = 1 - chi2.cdf(chi2_stats, df)\n",
        "  if chi_stats > crit_value:\n",
        "    print('\\nReject the Null Hypothesis')\n",
        "  else:\n",
        "    print(\"\\nFailed to gather sufcient evidence to reject the null hypothesis\")\n",
        "  return p_value\n",
        "\n",
        "# test code\n",
        "if __name__ == '__main__':\n",
        " p_value = chi2_decision(crit_value, chi2_stats,df)\n",
        " print(\"\\nThe p_value is :\", p_value)"
      ],
      "metadata": {
        "colab": {
          "base_uri": "https://localhost:8080/"
        },
        "id": "iuy9UmVSQYBN",
        "outputId": "19bb2948-5a8f-4b88-d5bb-4b732c0e9ed8"
      },
      "execution_count": 3,
      "outputs": [
        {
          "output_type": "stream",
          "name": "stdout",
          "text": [
            "The chi-square test statistics is : 2.8946178199909545\n",
            "\n",
            "The degree of freedom is : 1\n",
            "The critical chi-squared value is : 6.6348966010212145\n",
            "\n",
            "Failed to gather sufcient evidence to reject the null hypothesis\n",
            "\n",
            "The p_value is : 0.08887585044058066\n"
          ]
        }
      ]
    },
    {
      "cell_type": "markdown",
      "source": [
        "## For alpha =0.001"
      ],
      "metadata": {
        "id": "7TWXohfcQkbu"
      }
    },
    {
      "cell_type": "code",
      "source": [
        "# Define the observed and expected values\n",
        "observed =np.array([41, 59])\n",
        "expected = np.array([33, 67])\n",
        "\n",
        "# calculate chi-squared statistics\n",
        "chi2_stats = sum((observed - expected)**2/expected)\n",
        "print(\"The chi-square test statistics is :\" , chi2_stats)\n",
        "\n",
        "# Calculate degree of freedom\n",
        "df = len(observed) -1\n",
        "print('\\nThe degree of freedom is :', df)\n",
        "\n",
        "\n",
        "# criical chi-square for alpha value of alpha\n",
        "alpha = 0.001\n",
        "\n",
        "crit_value = chi2.ppf(1-alpha, df)\n",
        "\n",
        "print(\"The critical chi-squared value is :\", crit_value)\n",
        "\n",
        "\n",
        "def chi2_decision(crit_value, chi_stats,df):\n",
        "  p_value = 1 - chi2.cdf(chi2_stats, df)\n",
        "  if chi_stats > crit_value:\n",
        "    print('\\nReject the Null Hypothesis')\n",
        "  else:\n",
        "    print(\"\\nFailed to gather sufcient evidence to reject the null hypothesis\")\n",
        "  return p_value\n",
        "\n",
        "# test code\n",
        "if __name__ == '__main__':\n",
        " p_value = chi2_decision(crit_value, chi2_stats,df)\n",
        " print(\"\\nThe p_value is :\", p_value)"
      ],
      "metadata": {
        "colab": {
          "base_uri": "https://localhost:8080/"
        },
        "id": "QfKfWx7KQb0R",
        "outputId": "fdcdb7c2-7831-4086-d698-69528e5106da"
      },
      "execution_count": 4,
      "outputs": [
        {
          "output_type": "stream",
          "name": "stdout",
          "text": [
            "The chi-square test statistics is : 2.8946178199909545\n",
            "\n",
            "The degree of freedom is : 1\n",
            "The critical chi-squared value is : 10.827566170662733\n",
            "\n",
            "Failed to gather sufcient evidence to reject the null hypothesis\n",
            "\n",
            "The p_value is : 0.08887585044058066\n"
          ]
        }
      ]
    }
  ]
}