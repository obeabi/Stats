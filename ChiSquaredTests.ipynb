{
  "nbformat": 4,
  "nbformat_minor": 0,
  "metadata": {
    "colab": {
      "provenance": [],
      "authorship_tag": "ABX9TyOOwMd3Arkp8pR1mr5nwQzj",
      "include_colab_link": true
    },
    "kernelspec": {
      "name": "python3",
      "display_name": "Python 3"
    },
    "language_info": {
      "name": "python"
    }
  },
  "cells": [
    {
      "cell_type": "markdown",
      "metadata": {
        "id": "view-in-github",
        "colab_type": "text"
      },
      "source": [
        "<a href=\"https://colab.research.google.com/github/obeabi/Stats/blob/main/ChiSquaredTests.ipynb\" target=\"_parent\"><img src=\"https://colab.research.google.com/assets/colab-badge.svg\" alt=\"Open In Colab\"/></a>"
      ]
    },
    {
      "cell_type": "code",
      "execution_count": 2,
      "metadata": {
        "colab": {
          "base_uri": "https://localhost:8080/"
        },
        "id": "XOXgQJwLbSLl",
        "outputId": "a75db6cd-cf99-4136-f418-bb7789fb7423"
      },
      "outputs": [
        {
          "output_type": "stream",
          "name": "stdout",
          "text": [
            "Libraries installed!\n"
          ]
        }
      ],
      "source": [
        "from scipy.stats import chi2\n",
        "import numpy as np\n",
        "import pandas as pd\n",
        "import seaborn as sns\n",
        "print(\"Libraries installed!\")"
      ]
    },
    {
      "cell_type": "code",
      "source": [
        "# Calculate chi square critical at 95% i.e. alpha = 0.05\n",
        "df = 1\n",
        "chi_stats = 2.89\n",
        "chi2.ppf(0.95, df = 1)"
      ],
      "metadata": {
        "colab": {
          "base_uri": "https://localhost:8080/"
        },
        "id": "WzDY3Oa0bkYW",
        "outputId": "320d16bb-7aaa-4ac9-8b60-b68f83024054"
      },
      "execution_count": 7,
      "outputs": [
        {
          "output_type": "execute_result",
          "data": {
            "text/plain": [
              "3.841458820694124"
            ]
          },
          "metadata": {},
          "execution_count": 7
        }
      ]
    },
    {
      "cell_type": "code",
      "source": [
        "# Calculate p value based on test statistics and df\n",
        "chi2.sf( x = chi_stats, df = df)"
      ],
      "metadata": {
        "colab": {
          "base_uri": "https://localhost:8080/"
        },
        "id": "-O1u5Z5ldRY6",
        "outputId": "77f4f9f8-3a9d-4631-ab37-19e4cad2f550"
      },
      "execution_count": 9,
      "outputs": [
        {
          "output_type": "execute_result",
          "data": {
            "text/plain": [
              "0.08913092551708636"
            ]
          },
          "metadata": {},
          "execution_count": 9
        }
      ]
    },
    {
      "cell_type": "code",
      "source": [
        "from scipy.stats.contingency import chi2_contingency\n",
        "# A Two-way example (2*3)\n",
        "\n",
        "obs = np.array([[7,16,6],[43,34,44]])\n",
        "stats, p, df, table = chi2_contingency(obs)\n",
        "\n",
        "print(\"Tests statistics\\n\")\n",
        "print(stats)\n",
        "\n",
        "print(\"\\npvalue is :\", p)\n",
        "\n",
        "print(\"\\nDegree of freedeom is :\", df)\n",
        "\n",
        "print(\"\\nContigency table\")\n",
        "print(table)"
      ],
      "metadata": {
        "colab": {
          "base_uri": "https://localhost:8080/"
        },
        "id": "RQCnuV_hfdky",
        "outputId": "61b98803-9db8-440c-e2e8-b6d250dc532b"
      },
      "execution_count": 13,
      "outputs": [
        {
          "output_type": "stream",
          "name": "stdout",
          "text": [
            "Tests statistics\n",
            "\n",
            "7.779994300370478\n",
            "\n",
            "pvalue is : 0.02044540430346961\n",
            "\n",
            "Degree of freedeom is : 2\n",
            "\n",
            "Contigency table\n",
            "[[ 9.66666667  9.66666667  9.66666667]\n",
            " [40.33333333 40.33333333 40.33333333]]\n"
          ]
        }
      ]
    }
  ]
}