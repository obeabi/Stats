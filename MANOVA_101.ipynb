{
 "cells": [
  {
   "cell_type": "markdown",
   "id": "6d5479ef",
   "metadata": {},
   "source": [
    "Multivariate analysis of variance (MANOVA) is an extension of the univariate analysis of variance (ANOVA).  In an ANOVA, we examine for statistical differences on one continuous dependent variable by an independent grouping variable.  The MANOVA extends this analysis by taking into account multiple continuous dependent variables, and bundles them together into a weighted linear combination or composite variable.  The MANOVA will compare whether or not the newly created combination differs by the different groups, or levels, of the independent variable.  In this way, the MANOVA essentially tests whether or not the independent grouping variable simultaneously explains a statistically significant amount of variance in the dependent variable."
   ]
  },
  {
   "cell_type": "code",
   "execution_count": 13,
   "id": "87f64c59",
   "metadata": {},
   "outputs": [
    {
     "name": "stdout",
     "output_type": "stream",
     "text": [
      "libraries installed succesfully!\n"
     ]
    }
   ],
   "source": [
    "# Install libraries\n",
    "import pandas as pd\n",
    "import numpy as np\n",
    "import statsmodels\n",
    "\n",
    "import statsmodels.api as sm\n",
    "from statsmodels.formula.api import ols\n",
    "from statsmodels.multivariate.manova import MANOVA\n",
    "from statsmodels.stats.multicomp import pairwise_tukeyhsd\n",
    "import scipy \n",
    "from scipy.stats import mannwhitneyu, fisher_exact, ttest_ind\n",
    "\n",
    "import seaborn as sns\n",
    "import matplotlib.pyplot as plt\n",
    "\n",
    "from statsmodels.graphics.mosaicplot import mosaic\n",
    "%matplotlib inline\n",
    "\n",
    "plt.rcParams['figure.figsize'] = (8.0, 7.0) # set default size of plots\n",
    "plt.rcParams['image.interpolation'] = 'nearest'\n",
    "plt.rcParams['image.cmap'] = 'gray'\n",
    "\n",
    "\n",
    "print(\"libraries installed succesfully!\")"
   ]
  },
  {
   "cell_type": "code",
   "execution_count": 14,
   "id": "266f8c9d",
   "metadata": {},
   "outputs": [
    {
     "data": {
      "text/html": [
       "<div>\n",
       "<style scoped>\n",
       "    .dataframe tbody tr th:only-of-type {\n",
       "        vertical-align: middle;\n",
       "    }\n",
       "\n",
       "    .dataframe tbody tr th {\n",
       "        vertical-align: top;\n",
       "    }\n",
       "\n",
       "    .dataframe thead th {\n",
       "        text-align: right;\n",
       "    }\n",
       "</style>\n",
       "<table border=\"1\" class=\"dataframe\">\n",
       "  <thead>\n",
       "    <tr style=\"text-align: right;\">\n",
       "      <th></th>\n",
       "      <th>Unnamed: 0</th>\n",
       "      <th>income</th>\n",
       "      <th>infant</th>\n",
       "      <th>region</th>\n",
       "      <th>oil</th>\n",
       "    </tr>\n",
       "  </thead>\n",
       "  <tbody>\n",
       "    <tr>\n",
       "      <th>0</th>\n",
       "      <td>Australia</td>\n",
       "      <td>3426</td>\n",
       "      <td>26.7</td>\n",
       "      <td>Asia</td>\n",
       "      <td>no</td>\n",
       "    </tr>\n",
       "    <tr>\n",
       "      <th>1</th>\n",
       "      <td>Austria</td>\n",
       "      <td>3350</td>\n",
       "      <td>23.7</td>\n",
       "      <td>Europe</td>\n",
       "      <td>no</td>\n",
       "    </tr>\n",
       "    <tr>\n",
       "      <th>2</th>\n",
       "      <td>Belgium</td>\n",
       "      <td>3346</td>\n",
       "      <td>17.0</td>\n",
       "      <td>Europe</td>\n",
       "      <td>no</td>\n",
       "    </tr>\n",
       "    <tr>\n",
       "      <th>3</th>\n",
       "      <td>Canada</td>\n",
       "      <td>4751</td>\n",
       "      <td>16.8</td>\n",
       "      <td>Americas</td>\n",
       "      <td>no</td>\n",
       "    </tr>\n",
       "    <tr>\n",
       "      <th>4</th>\n",
       "      <td>Denmark</td>\n",
       "      <td>5029</td>\n",
       "      <td>13.5</td>\n",
       "      <td>Europe</td>\n",
       "      <td>no</td>\n",
       "    </tr>\n",
       "  </tbody>\n",
       "</table>\n",
       "</div>"
      ],
      "text/plain": [
       "  Unnamed: 0  income  infant    region oil\n",
       "0  Australia    3426    26.7      Asia  no\n",
       "1    Austria    3350    23.7    Europe  no\n",
       "2    Belgium    3346    17.0    Europe  no\n",
       "3     Canada    4751    16.8  Americas  no\n",
       "4    Denmark    5029    13.5    Europe  no"
      ]
     },
     "execution_count": 14,
     "metadata": {},
     "output_type": "execute_result"
    }
   ],
   "source": [
    "# load dataset\n",
    "df = pd.read_csv('Leinhardt.csv', encoding = 'unicode_escape')\n",
    "df.dropna()\n",
    "df.head()"
   ]
  },
  {
   "cell_type": "markdown",
   "id": "93a6bc26",
   "metadata": {},
   "source": [
    "## One-Way MANOVA: Relationship between income per capital and infant mortatility in realtion to region"
   ]
  },
  {
   "cell_type": "code",
   "execution_count": 15,
   "id": "db9e7304",
   "metadata": {},
   "outputs": [
    {
     "name": "stdout",
     "output_type": "stream",
     "text": [
      "                  Multivariate linear model\n",
      "=============================================================\n",
      "                                                             \n",
      "-------------------------------------------------------------\n",
      "        Intercept        Value  Num DF  Den DF F Value Pr > F\n",
      "-------------------------------------------------------------\n",
      "           Wilks' lambda 0.4625 2.0000 96.0000 55.7795 0.0000\n",
      "          Pillai's trace 0.5375 2.0000 96.0000 55.7795 0.0000\n",
      "  Hotelling-Lawley trace 1.1621 2.0000 96.0000 55.7795 0.0000\n",
      "     Roy's greatest root 1.1621 2.0000 96.0000 55.7795 0.0000\n",
      "-------------------------------------------------------------\n",
      "                                                             \n",
      "-------------------------------------------------------------\n",
      "         region         Value  Num DF  Den DF  F Value Pr > F\n",
      "-------------------------------------------------------------\n",
      "          Wilks' lambda 0.4454 6.0000 192.0000 15.9501 0.0000\n",
      "         Pillai's trace 0.5864 6.0000 194.0000 13.4122 0.0000\n",
      " Hotelling-Lawley trace 1.1740 6.0000 126.2378 18.6892 0.0000\n",
      "    Roy's greatest root 1.1098 3.0000  97.0000 35.8831 0.0000\n",
      "=============================================================\n",
      "\n"
     ]
    }
   ],
   "source": [
    "maov = MANOVA.from_formula('income+infant~region', data = df)\n",
    "\n",
    "print(maov.mv_test())"
   ]
  },
  {
   "cell_type": "markdown",
   "id": "b16c7da5",
   "metadata": {},
   "source": [
    "From the MANOVA table we see that the p-value (Wilks' lambda) for study technique is << 0.05 (Stats significant). Since this value is less than 0.05, we can reject the null hypothesis that each of the region leads to the same average infant mortality +per capital income.\n",
    "\n",
    "Wilks lmbda t-statistics is appropriate if the homogeneity of variance and covariance of data is assumed! Since initial analysis shows stat significant we have to perform further univariate anova study for each of the dependent variables. It is important to note that for each univariate test the p-value will be compared to the threhold set for MANOVA(i.e. 0.005) divided by number of dependent varaibles in the model. This is to avoid type 1 errors."
   ]
  },
  {
   "cell_type": "code",
   "execution_count": 16,
   "id": "5ebf5d12",
   "metadata": {},
   "outputs": [
    {
     "name": "stdout",
     "output_type": "stream",
     "text": [
      "             df        sum_sq       mean_sq          F        PR(>F)\n",
      "region      3.0  9.687876e+07  3.229292e+07  29.158395  1.156919e-13\n",
      "Residual  101.0  1.118575e+08  1.107500e+06        NaN           NaN\n"
     ]
    }
   ],
   "source": [
    "# Income vs region ANOVA\n",
    "\n",
    "reg = ols('income~region', data = df).fit()\n",
    "\n",
    "aov = sm.stats.anova_lm(reg, type =2)\n",
    "\n",
    "print(aov)"
   ]
  },
  {
   "cell_type": "markdown",
   "id": "4a4873c5",
   "metadata": {},
   "source": [
    "From the ANOVA table we see that the p-value for study technique is << 0.05/2 (Stats significant). Since this value is less than 0.05/2, we can reject the null hypothesis that each of the region leads to the same average per capital income."
   ]
  },
  {
   "cell_type": "code",
   "execution_count": 17,
   "id": "04e4d35b",
   "metadata": {},
   "outputs": [
    {
     "data": {
      "image/png": "[encoded data removed]",
      "text/plain": [
       "<Figure size 576x504 with 1 Axes>"
      ]
     },
     "metadata": {
      "needs_background": "light"
     },
     "output_type": "display_data"
    }
   ],
   "source": [
    "# box plot for marks column\n",
    "df.boxplot(column='income', by = 'region')\n",
    "plt.show()"
   ]
  },
  {
   "cell_type": "markdown",
   "id": "bde021ed",
   "metadata": {},
   "source": [
    "Now we need to see which regions lead to us rejecting the null hypothesis using the tukeyhsd test (posthoc test)"
   ]
  },
  {
   "cell_type": "code",
   "execution_count": 18,
   "id": "e56cadf7",
   "metadata": {},
   "outputs": [
    {
     "name": "stdout",
     "output_type": "stream",
     "text": [
      "     Multiple Comparison of Means - Tukey HSD, FWER=0.03      \n",
      "==============================================================\n",
      " group1   group2   meandiff p-adj    lower      upper   reject\n",
      "--------------------------------------------------------------\n",
      "  Africa Americas  666.6343 0.0945  -150.2706 1483.5392  False\n",
      "  Africa     Asia  365.6314 0.5104  -392.2956 1123.5583  False\n",
      "  Africa   Europe 2766.9869    0.0  1884.9974 3648.9764   True\n",
      "Americas     Asia -301.0029 0.7311 -1139.5951  537.5893  False\n",
      "Americas   Europe 2100.3527    0.0  1148.1504 3052.5549   True\n",
      "    Asia   Europe 2401.3556    0.0   1499.242 3303.4691   True\n",
      "--------------------------------------------------------------\n"
     ]
    }
   ],
   "source": [
    "mc = pairwise_tukeyhsd(df['income'], df['region'] , alpha = 0.025)\n",
    "print(mc)"
   ]
  },
  {
   "cell_type": "markdown",
   "id": "331503ef",
   "metadata": {},
   "source": [
    "## Two-Way MANOVA: Relationship between income per capital and infant mortatility in realtion to region and oil"
   ]
  },
  {
   "cell_type": "code",
   "execution_count": 19,
   "id": "b8f28a6a",
   "metadata": {},
   "outputs": [
    {
     "name": "stdout",
     "output_type": "stream",
     "text": [
      "                  Multivariate linear model\n",
      "=============================================================\n",
      "                                                             \n",
      "-------------------------------------------------------------\n",
      "        Intercept        Value  Num DF  Den DF F Value Pr > F\n",
      "-------------------------------------------------------------\n",
      "           Wilks' lambda 0.4767 2.0000 95.0000 52.1370 0.0000\n",
      "          Pillai's trace 0.5233 2.0000 95.0000 52.1370 0.0000\n",
      "  Hotelling-Lawley trace 1.0976 2.0000 95.0000 52.1370 0.0000\n",
      "     Roy's greatest root 1.0976 2.0000 95.0000 52.1370 0.0000\n",
      "-------------------------------------------------------------\n",
      "                                                             \n",
      "-------------------------------------------------------------\n",
      "         region         Value  Num DF  Den DF  F Value Pr > F\n",
      "-------------------------------------------------------------\n",
      "          Wilks' lambda 0.4446 6.0000 190.0000 15.8241 0.0000\n",
      "         Pillai's trace 0.5936 6.0000 192.0000 13.5049 0.0000\n",
      " Hotelling-Lawley trace 1.1633 6.0000 124.9046 18.3240 0.0000\n",
      "    Roy's greatest root 1.0841 3.0000  96.0000 34.6900 0.0000\n",
      "-------------------------------------------------------------\n",
      "                                                             \n",
      "-------------------------------------------------------------\n",
      "           oil           Value  Num DF  Den DF F Value Pr > F\n",
      "-------------------------------------------------------------\n",
      "           Wilks' lambda 0.9205 2.0000 95.0000  4.1015 0.0196\n",
      "          Pillai's trace 0.0795 2.0000 95.0000  4.1015 0.0196\n",
      "  Hotelling-Lawley trace 0.0863 2.0000 95.0000  4.1015 0.0196\n",
      "     Roy's greatest root 0.0863 2.0000 95.0000  4.1015 0.0196\n",
      "=============================================================\n",
      "\n"
     ]
    }
   ],
   "source": [
    "maov2 = MANOVA.from_formula('income+infant~region+oil', data = df)\n",
    "\n",
    "print(maov2.mv_test())"
   ]
  },
  {
   "cell_type": "markdown",
   "id": "d45065dd",
   "metadata": {},
   "source": [
    "From the MANOVA table we see that the p-value (Wilks' lambda) for study technique is << 0.05 (Stats significant). Since this value is less than 0.05, we can reject the null hypothesis that each of the region and oil leads to the same average infant mortality +per capital income.\n",
    "\n",
    "Wilks lambda lies between 0 and 1 is appropriate if the homogeneity (The closer the value to Wilks lambda to 0 the more the field contributes to the model).\n",
    " Since initial analysis shows stat significant we have to perform further univariate anova study for each of the dependent variables. It is important to note that for each univariate test the p-value will be compared to the threhold set for MANOVAdivided by number of dependent varaibles in the model(i.e. 0.025) . This is to avoid type 1 errors."
   ]
  },
  {
   "cell_type": "code",
   "execution_count": 20,
   "id": "e4ebf78c",
   "metadata": {},
   "outputs": [
    {
     "name": "stdout",
     "output_type": "stream",
     "text": [
      "             df        sum_sq       mean_sq          F        PR(>F)\n",
      "region      3.0  9.687876e+07  3.229292e+07  29.233972  1.178385e-13\n",
      "oil         1.0  1.393815e+06  1.393815e+06   1.261786  2.640028e-01\n",
      "Residual  100.0  1.104637e+08  1.104637e+06        NaN           NaN\n"
     ]
    }
   ],
   "source": [
    "# Income vs region + oil ANOVA\n",
    "\n",
    "reg2 = ols('income~region+oil', data = df).fit()\n",
    "\n",
    "aov2 = sm.stats.anova_lm(reg2, type =2)\n",
    "\n",
    "print(aov2)"
   ]
  },
  {
   "cell_type": "code",
   "execution_count": 21,
   "id": "56483de8",
   "metadata": {},
   "outputs": [
    {
     "data": {
      "image/png": "[encoded data removed]",
      "text/plain": [
       "<Figure size 576x504 with 1 Axes>"
      ]
     },
     "metadata": {
      "needs_background": "light"
     },
     "output_type": "display_data"
    }
   ],
   "source": [
    "# box plot for marks column\n",
    "df.boxplot(column='income', by = 'oil')\n",
    "plt.show()"
   ]
  },
  {
   "cell_type": "markdown",
   "id": "7d46fd51",
   "metadata": {},
   "source": [
    "From the ANOVA table we see that the p-value for region in this study technique is << 0.05 (Stats significant). Since this value is less than 0.05, we can reject the null hypothesis that each of the region leads to the same average  per capital income.Now we need to see which regions lead to us rejecting the null hypothesis using the tukeyhsd test (posthoc test) see above"
   ]
  },
  {
   "cell_type": "markdown",
   "id": "5e8c0d91",
   "metadata": {},
   "source": [
    "## What about the second dependent variable?"
   ]
  },
  {
   "cell_type": "code",
   "execution_count": 22,
   "id": "10433ea9",
   "metadata": {},
   "outputs": [
    {
     "name": "stdout",
     "output_type": "stream",
     "text": [
      "            df         sum_sq       mean_sq          F    PR(>F)\n",
      "region     3.0  210752.145151  70250.715050  11.799705  0.000001\n",
      "oil        1.0   42197.334973  42197.334973   7.087702  0.009101\n",
      "Residual  96.0  571545.511757   5953.599081        NaN       NaN\n"
     ]
    }
   ],
   "source": [
    "# Infant vs region + oil ANOVA\n",
    "\n",
    "reg2 = ols('infant~region+oil', data = df).fit()\n",
    "\n",
    "aov2 = sm.stats.anova_lm(reg2, type =2)\n",
    "\n",
    "print(aov2)"
   ]
  },
  {
   "cell_type": "markdown",
   "id": "9abf1312",
   "metadata": {},
   "source": [
    "From the ANOVA table we see that the p-value for region in this study technique is << 0.05 (Stats significant). Since this value is less than 0.05, we can reject the null hypothesis that each of the region and oil leads to the same average  infant mortality.Now we need to see which regions and oils  leads us to reject null hypothesis using posthoc analysis i.e. comparing means of each caetgories\n"
   ]
  },
  {
   "cell_type": "code",
   "execution_count": 23,
   "id": "e8503d8e",
   "metadata": {},
   "outputs": [
    {
     "data": {
      "image/png": "[encoded data removed]",
      "text/plain": [
       "<Figure size 576x504 with 1 Axes>"
      ]
     },
     "metadata": {
      "needs_background": "light"
     },
     "output_type": "display_data"
    }
   ],
   "source": [
    "# box plot for marks column\n",
    "df.boxplot(column='infant', by = 'oil')\n",
    "plt.show()"
   ]
  },
  {
   "cell_type": "code",
   "execution_count": 24,
   "id": "d04d662c",
   "metadata": {},
   "outputs": [
    {
     "data": {
      "image/png": "[encoded data removed]",
      "text/plain": [
       "<Figure size 576x504 with 1 Axes>"
      ]
     },
     "metadata": {
      "needs_background": "light"
     },
     "output_type": "display_data"
    }
   ],
   "source": [
    "# box plot for marks column\n",
    "df.boxplot(column='infant', by = 'region')\n",
    "plt.show()"
   ]
  },
  {
   "cell_type": "code",
   "execution_count": null,
   "id": "69316495",
   "metadata": {},
   "outputs": [],
   "source": []
  }
 ],
 "metadata": {
  "kernelspec": {
   "display_name": "Python 3 (ipykernel)",
   "language": "python",
   "name": "python3"
  },
  "language_info": {
   "codemirror_mode": {
    "name": "ipython",
    "version": 3
   },
   "file_extension": ".py",
   "mimetype": "text/x-python",
   "name": "python",
   "nbconvert_exporter": "python",
   "pygments_lexer": "ipython3",
   "version": "3.9.7"
  }
 },
 "nbformat": 4,
 "nbformat_minor": 5
}
