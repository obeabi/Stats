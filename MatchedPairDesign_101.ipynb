{
  "nbformat": 4,
  "nbformat_minor": 0,
  "metadata": {
    "colab": {
      "provenance": [],
      "authorship_tag": "ABX9TyM44NHABQhyrImcsd7h6A51",
      "include_colab_link": true
    },
    "kernelspec": {
      "name": "python3",
      "display_name": "Python 3"
    },
    "language_info": {
      "name": "python"
    }
  },
  "cells": [
    {
      "cell_type": "markdown",
      "metadata": {
        "id": "view-in-github",
        "colab_type": "text"
      },
      "source": [
        "<a href=\"https://colab.research.google.com/github/obeabi/Stats/blob/main/MatchedPairDesign_101.ipynb\" target=\"_parent\"><img src=\"https://colab.research.google.com/assets/colab-badge.svg\" alt=\"Open In Colab\"/></a>"
      ]
    },
    {
      "cell_type": "markdown",
      "source": [
        "Let’s work through matching control units to a set of treatment units. For the new product introduction experiment let’s say that your manager has assigned a set of 10 treatment stores in California where the Grape flavor of the product will be sold.\n",
        "\n",
        "The data for all the stores is in the file: NewProductControlData.csv\n",
        "\n",
        "The data for the treatment stores for the Grape test is: GrapeProductTreatmentStores.csv\n",
        "\n",
        "What are the control stores for each treatment store?\n",
        "\n",
        "Your result should be a dataset with two fields: treatment store and control store. There are 10 treatment stores, and you're matching two control stores to each, so there should be twenty rows in your dataset. See the next section for the results.\n",
        "Supporting Materials\n",
        "Grape Product Treatment Stores\n",
        "New Product Control Stores"
      ],
      "metadata": {
        "id": "DxcoeJHWBNTs"
      }
    },
    {
      "cell_type": "code",
      "source": [
        "# Optimization with PuLP\n",
        "!pip install pulp"
      ],
      "metadata": {
        "colab": {
          "base_uri": "https://localhost:8080/"
        },
        "id": "8wpF7CvSg4-m",
        "outputId": "91bfefc7-884a-4ec1-d05e-8a21278c18f0"
      },
      "execution_count": 3,
      "outputs": [
        {
          "output_type": "stream",
          "name": "stdout",
          "text": [
            "Looking in indexes: https://pypi.org/simple, https://us-python.pkg.dev/colab-wheels/public/simple/\n",
            "Requirement already satisfied: pulp in /usr/local/lib/python3.7/dist-packages (2.7.0)\n"
          ]
        }
      ]
    },
    {
      "cell_type": "code",
      "execution_count": 58,
      "metadata": {
        "colab": {
          "base_uri": "https://localhost:8080/"
        },
        "id": "VF0yL9lWAy2r",
        "outputId": "4af5d415-bfb0-482c-d694-26024b9aee01"
      },
      "outputs": [
        {
          "output_type": "stream",
          "name": "stdout",
          "text": [
            "Libraries installed!\n"
          ]
        }
      ],
      "source": [
        "import pandas as  pd\n",
        "import numpy as np\n",
        "import scipy\n",
        "from pulp import *\n",
        "from sklearn.preprocessing import StandardScaler\n",
        "from scipy.cluster import hierarchy\n",
        "from scipy.spatial import distance_matrix\n",
        "from sklearn.cluster import AgglomerativeClustering\n",
        "import matplotlib.pyplot as plt\n",
        "from sklearn.preprocessing import MinMaxScaler\n",
        "\n",
        "print(\"Libraries installed!\")"
      ]
    },
    {
      "cell_type": "code",
      "source": [
        "# Upload teatment file as dataframe\n",
        "#df_treat =pd.read_csv('grapeproducttreatmentstores.csv')\n",
        " \n",
        "df = pd.read_csv('newproductcontroldata.csv')\n",
        "df.head()"
      ],
      "metadata": {
        "colab": {
          "base_uri": "https://localhost:8080/",
          "height": 206
        },
        "id": "rFvANvGHBZr0",
        "outputId": "4a766f94-9c7b-450c-ab6e-be2d8cfabdfe"
      },
      "execution_count": 129,
      "outputs": [
        {
          "output_type": "execute_result",
          "data": {
            "text/plain": [
              "   Store ID        City State  Zip Code  Category Sales  Product Count   Size\n",
              "0         1   ALABASTER    AL     35007           18.88              1  Large\n",
              "1         2  BIRMINGHAM    AL     35209        44125.66              6  Large\n",
              "2         3     DECATUR    AL     35601        46627.92              5  Large\n",
              "3         4  HUNTSVILLE    AL     35806        26658.48              6  Large\n",
              "4         5      MOBILE    AL     36606         1863.60              3  Large"
            ],
            "text/html": [
              "\n",
              "  <div id=\"df-41b92bf2-4fe2-41da-a920-5011d8407eec\">\n",
              "    <div class=\"colab-df-container\">\n",
              "      <div>\n",
              "<style scoped>\n",
              "    .dataframe tbody tr th:only-of-type {\n",
              "        vertical-align: middle;\n",
              "    }\n",
              "\n",
              "    .dataframe tbody tr th {\n",
              "        vertical-align: top;\n",
              "    }\n",
              "\n",
              "    .dataframe thead th {\n",
              "        text-align: right;\n",
              "    }\n",
              "</style>\n",
              "<table border=\"1\" class=\"dataframe\">\n",
              "  <thead>\n",
              "    <tr style=\"text-align: right;\">\n",
              "      <th></th>\n",
              "      <th>Store ID</th>\n",
              "      <th>City</th>\n",
              "      <th>State</th>\n",
              "      <th>Zip Code</th>\n",
              "      <th>Category Sales</th>\n",
              "      <th>Product Count</th>\n",
              "      <th>Size</th>\n",
              "    </tr>\n",
              "  </thead>\n",
              "  <tbody>\n",
              "    <tr>\n",
              "      <th>0</th>\n",
              "      <td>1</td>\n",
              "      <td>ALABASTER</td>\n",
              "      <td>AL</td>\n",
              "      <td>35007</td>\n",
              "      <td>18.88</td>\n",
              "      <td>1</td>\n",
              "      <td>Large</td>\n",
              "    </tr>\n",
              "    <tr>\n",
              "      <th>1</th>\n",
              "      <td>2</td>\n",
              "      <td>BIRMINGHAM</td>\n",
              "      <td>AL</td>\n",
              "      <td>35209</td>\n",
              "      <td>44125.66</td>\n",
              "      <td>6</td>\n",
              "      <td>Large</td>\n",
              "    </tr>\n",
              "    <tr>\n",
              "      <th>2</th>\n",
              "      <td>3</td>\n",
              "      <td>DECATUR</td>\n",
              "      <td>AL</td>\n",
              "      <td>35601</td>\n",
              "      <td>46627.92</td>\n",
              "      <td>5</td>\n",
              "      <td>Large</td>\n",
              "    </tr>\n",
              "    <tr>\n",
              "      <th>3</th>\n",
              "      <td>4</td>\n",
              "      <td>HUNTSVILLE</td>\n",
              "      <td>AL</td>\n",
              "      <td>35806</td>\n",
              "      <td>26658.48</td>\n",
              "      <td>6</td>\n",
              "      <td>Large</td>\n",
              "    </tr>\n",
              "    <tr>\n",
              "      <th>4</th>\n",
              "      <td>5</td>\n",
              "      <td>MOBILE</td>\n",
              "      <td>AL</td>\n",
              "      <td>36606</td>\n",
              "      <td>1863.60</td>\n",
              "      <td>3</td>\n",
              "      <td>Large</td>\n",
              "    </tr>\n",
              "  </tbody>\n",
              "</table>\n",
              "</div>\n",
              "      <button class=\"colab-df-convert\" onclick=\"convertToInteractive('df-41b92bf2-4fe2-41da-a920-5011d8407eec')\"\n",
              "              title=\"Convert this dataframe to an interactive table.\"\n",
              "              style=\"display:none;\">\n",
              "        \n",
              "  <svg xmlns=\"http://www.w3.org/2000/svg\" height=\"24px\"viewBox=\"0 0 24 24\"\n",
              "       width=\"24px\">\n",
              "    <path d=\"M0 0h24v24H0V0z\" fill=\"none\"/>\n",
              "    <path d=\"M18.56 5.44l.94 2.06.94-2.06 2.06-.94-2.06-.94-.94-2.06-.94 2.06-2.06.94zm-11 1L8.5 8.5l.94-2.06 2.06-.94-2.06-.94L8.5 2.5l-.94 2.06-2.06.94zm10 10l.94 2.06.94-2.06 2.06-.94-2.06-.94-.94-2.06-.94 2.06-2.06.94z\"/><path d=\"M17.41 7.96l-1.37-1.37c-.4-.4-.92-.59-1.43-.59-.52 0-1.04.2-1.43.59L10.3 9.45l-7.72 7.72c-.78.78-.78 2.05 0 2.83L4 21.41c.39.39.9.59 1.41.59.51 0 1.02-.2 1.41-.59l7.78-7.78 2.81-2.81c.8-.78.8-2.07 0-2.86zM5.41 20L4 18.59l7.72-7.72 1.47 1.35L5.41 20z\"/>\n",
              "  </svg>\n",
              "      </button>\n",
              "      \n",
              "  <style>\n",
              "    .colab-df-container {\n",
              "      display:flex;\n",
              "      flex-wrap:wrap;\n",
              "      gap: 12px;\n",
              "    }\n",
              "\n",
              "    .colab-df-convert {\n",
              "      background-color: #E8F0FE;\n",
              "      border: none;\n",
              "      border-radius: 50%;\n",
              "      cursor: pointer;\n",
              "      display: none;\n",
              "      fill: #1967D2;\n",
              "      height: 32px;\n",
              "      padding: 0 0 0 0;\n",
              "      width: 32px;\n",
              "    }\n",
              "\n",
              "    .colab-df-convert:hover {\n",
              "      background-color: #E2EBFA;\n",
              "      box-shadow: 0px 1px 2px rgba(60, 64, 67, 0.3), 0px 1px 3px 1px rgba(60, 64, 67, 0.15);\n",
              "      fill: #174EA6;\n",
              "    }\n",
              "\n",
              "    [theme=dark] .colab-df-convert {\n",
              "      background-color: #3B4455;\n",
              "      fill: #D2E3FC;\n",
              "    }\n",
              "\n",
              "    [theme=dark] .colab-df-convert:hover {\n",
              "      background-color: #434B5C;\n",
              "      box-shadow: 0px 1px 3px 1px rgba(0, 0, 0, 0.15);\n",
              "      filter: drop-shadow(0px 1px 2px rgba(0, 0, 0, 0.3));\n",
              "      fill: #FFFFFF;\n",
              "    }\n",
              "  </style>\n",
              "\n",
              "      <script>\n",
              "        const buttonEl =\n",
              "          document.querySelector('#df-41b92bf2-4fe2-41da-a920-5011d8407eec button.colab-df-convert');\n",
              "        buttonEl.style.display =\n",
              "          google.colab.kernel.accessAllowed ? 'block' : 'none';\n",
              "\n",
              "        async function convertToInteractive(key) {\n",
              "          const element = document.querySelector('#df-41b92bf2-4fe2-41da-a920-5011d8407eec');\n",
              "          const dataTable =\n",
              "            await google.colab.kernel.invokeFunction('convertToInteractive',\n",
              "                                                     [key], {});\n",
              "          if (!dataTable) return;\n",
              "\n",
              "          const docLinkHtml = 'Like what you see? Visit the ' +\n",
              "            '<a target=\"_blank\" href=https://colab.research.google.com/notebooks/data_table.ipynb>data table notebook</a>'\n",
              "            + ' to learn more about interactive tables.';\n",
              "          element.innerHTML = '';\n",
              "          dataTable['output_type'] = 'display_data';\n",
              "          await google.colab.output.renderOutput(dataTable, element);\n",
              "          const docLink = document.createElement('div');\n",
              "          docLink.innerHTML = docLinkHtml;\n",
              "          element.appendChild(docLink);\n",
              "        }\n",
              "      </script>\n",
              "    </div>\n",
              "  </div>\n",
              "  "
            ]
          },
          "metadata": {},
          "execution_count": 129
        }
      ]
    },
    {
      "cell_type": "code",
      "source": [
        "# shape of dataframe\n",
        "df.shape"
      ],
      "metadata": {
        "colab": {
          "base_uri": "https://localhost:8080/"
        },
        "id": "cQNvDhlGJSHe",
        "outputId": "a4f4cb47-1197-4e8b-9e89-8bdc597e704d"
      },
      "execution_count": 130,
      "outputs": [
        {
          "output_type": "execute_result",
          "data": {
            "text/plain": [
              "(7008, 7)"
            ]
          },
          "metadata": {},
          "execution_count": 130
        }
      ]
    },
    {
      "cell_type": "code",
      "source": [
        "# Inspect data types\n",
        "df.dtypes"
      ],
      "metadata": {
        "colab": {
          "base_uri": "https://localhost:8080/"
        },
        "id": "cPkuUfKnjOp1",
        "outputId": "1e75fd20-9fd2-42fb-bb94-a74dfbed3b73"
      },
      "execution_count": 131,
      "outputs": [
        {
          "output_type": "execute_result",
          "data": {
            "text/plain": [
              "Store ID            int64\n",
              "City               object\n",
              "State              object\n",
              "Zip Code            int64\n",
              "Category Sales    float64\n",
              "Product Count       int64\n",
              "Size               object\n",
              "dtype: object"
            ]
          },
          "metadata": {},
          "execution_count": 131
        }
      ]
    },
    {
      "cell_type": "code",
      "source": [
        "# Missing values\n",
        "df.isnull().sum()"
      ],
      "metadata": {
        "colab": {
          "base_uri": "https://localhost:8080/"
        },
        "id": "7weqpnGcnCZA",
        "outputId": "5f4ba4bc-1fd0-412d-8471-f273083d884b"
      },
      "execution_count": 132,
      "outputs": [
        {
          "output_type": "execute_result",
          "data": {
            "text/plain": [
              "Store ID          0\n",
              "City              0\n",
              "State             0\n",
              "Zip Code          0\n",
              "Category Sales    0\n",
              "Product Count     0\n",
              "Size              0\n",
              "dtype: int64"
            ]
          },
          "metadata": {},
          "execution_count": 132
        }
      ]
    },
    {
      "cell_type": "code",
      "source": [
        "# Inspect store id 111\n",
        "treatment_store = df[df['Store ID']== 111]\n",
        "treatment_store"
      ],
      "metadata": {
        "colab": {
          "base_uri": "https://localhost:8080/",
          "height": 81
        },
        "id": "H27iVBDtjLgi",
        "outputId": "fec2b3cc-5472-49ce-eb74-ca2429f296de"
      },
      "execution_count": 146,
      "outputs": [
        {
          "output_type": "execute_result",
          "data": {
            "text/plain": [
              "     Store ID    City State  Zip Code  Category Sales  Product Count   Size\n",
              "110       111  Irvine    CA     92618         9556.14              5  Large"
            ],
            "text/html": [
              "\n",
              "  <div id=\"df-3e86aac2-80b5-4fa7-85ae-c077446c880e\">\n",
              "    <div class=\"colab-df-container\">\n",
              "      <div>\n",
              "<style scoped>\n",
              "    .dataframe tbody tr th:only-of-type {\n",
              "        vertical-align: middle;\n",
              "    }\n",
              "\n",
              "    .dataframe tbody tr th {\n",
              "        vertical-align: top;\n",
              "    }\n",
              "\n",
              "    .dataframe thead th {\n",
              "        text-align: right;\n",
              "    }\n",
              "</style>\n",
              "<table border=\"1\" class=\"dataframe\">\n",
              "  <thead>\n",
              "    <tr style=\"text-align: right;\">\n",
              "      <th></th>\n",
              "      <th>Store ID</th>\n",
              "      <th>City</th>\n",
              "      <th>State</th>\n",
              "      <th>Zip Code</th>\n",
              "      <th>Category Sales</th>\n",
              "      <th>Product Count</th>\n",
              "      <th>Size</th>\n",
              "    </tr>\n",
              "  </thead>\n",
              "  <tbody>\n",
              "    <tr>\n",
              "      <th>110</th>\n",
              "      <td>111</td>\n",
              "      <td>Irvine</td>\n",
              "      <td>CA</td>\n",
              "      <td>92618</td>\n",
              "      <td>9556.14</td>\n",
              "      <td>5</td>\n",
              "      <td>Large</td>\n",
              "    </tr>\n",
              "  </tbody>\n",
              "</table>\n",
              "</div>\n",
              "      <button class=\"colab-df-convert\" onclick=\"convertToInteractive('df-3e86aac2-80b5-4fa7-85ae-c077446c880e')\"\n",
              "              title=\"Convert this dataframe to an interactive table.\"\n",
              "              style=\"display:none;\">\n",
              "        \n",
              "  <svg xmlns=\"http://www.w3.org/2000/svg\" height=\"24px\"viewBox=\"0 0 24 24\"\n",
              "       width=\"24px\">\n",
              "    <path d=\"M0 0h24v24H0V0z\" fill=\"none\"/>\n",
              "    <path d=\"M18.56 5.44l.94 2.06.94-2.06 2.06-.94-2.06-.94-.94-2.06-.94 2.06-2.06.94zm-11 1L8.5 8.5l.94-2.06 2.06-.94-2.06-.94L8.5 2.5l-.94 2.06-2.06.94zm10 10l.94 2.06.94-2.06 2.06-.94-2.06-.94-.94-2.06-.94 2.06-2.06.94z\"/><path d=\"M17.41 7.96l-1.37-1.37c-.4-.4-.92-.59-1.43-.59-.52 0-1.04.2-1.43.59L10.3 9.45l-7.72 7.72c-.78.78-.78 2.05 0 2.83L4 21.41c.39.39.9.59 1.41.59.51 0 1.02-.2 1.41-.59l7.78-7.78 2.81-2.81c.8-.78.8-2.07 0-2.86zM5.41 20L4 18.59l7.72-7.72 1.47 1.35L5.41 20z\"/>\n",
              "  </svg>\n",
              "      </button>\n",
              "      \n",
              "  <style>\n",
              "    .colab-df-container {\n",
              "      display:flex;\n",
              "      flex-wrap:wrap;\n",
              "      gap: 12px;\n",
              "    }\n",
              "\n",
              "    .colab-df-convert {\n",
              "      background-color: #E8F0FE;\n",
              "      border: none;\n",
              "      border-radius: 50%;\n",
              "      cursor: pointer;\n",
              "      display: none;\n",
              "      fill: #1967D2;\n",
              "      height: 32px;\n",
              "      padding: 0 0 0 0;\n",
              "      width: 32px;\n",
              "    }\n",
              "\n",
              "    .colab-df-convert:hover {\n",
              "      background-color: #E2EBFA;\n",
              "      box-shadow: 0px 1px 2px rgba(60, 64, 67, 0.3), 0px 1px 3px 1px rgba(60, 64, 67, 0.15);\n",
              "      fill: #174EA6;\n",
              "    }\n",
              "\n",
              "    [theme=dark] .colab-df-convert {\n",
              "      background-color: #3B4455;\n",
              "      fill: #D2E3FC;\n",
              "    }\n",
              "\n",
              "    [theme=dark] .colab-df-convert:hover {\n",
              "      background-color: #434B5C;\n",
              "      box-shadow: 0px 1px 3px 1px rgba(0, 0, 0, 0.15);\n",
              "      filter: drop-shadow(0px 1px 2px rgba(0, 0, 0, 0.3));\n",
              "      fill: #FFFFFF;\n",
              "    }\n",
              "  </style>\n",
              "\n",
              "      <script>\n",
              "        const buttonEl =\n",
              "          document.querySelector('#df-3e86aac2-80b5-4fa7-85ae-c077446c880e button.colab-df-convert');\n",
              "        buttonEl.style.display =\n",
              "          google.colab.kernel.accessAllowed ? 'block' : 'none';\n",
              "\n",
              "        async function convertToInteractive(key) {\n",
              "          const element = document.querySelector('#df-3e86aac2-80b5-4fa7-85ae-c077446c880e');\n",
              "          const dataTable =\n",
              "            await google.colab.kernel.invokeFunction('convertToInteractive',\n",
              "                                                     [key], {});\n",
              "          if (!dataTable) return;\n",
              "\n",
              "          const docLinkHtml = 'Like what you see? Visit the ' +\n",
              "            '<a target=\"_blank\" href=https://colab.research.google.com/notebooks/data_table.ipynb>data table notebook</a>'\n",
              "            + ' to learn more about interactive tables.';\n",
              "          element.innerHTML = '';\n",
              "          dataTable['output_type'] = 'display_data';\n",
              "          await google.colab.output.renderOutput(dataTable, element);\n",
              "          const docLink = document.createElement('div');\n",
              "          docLink.innerHTML = docLinkHtml;\n",
              "          element.appendChild(docLink);\n",
              "        }\n",
              "      </script>\n",
              "    </div>\n",
              "  </div>\n",
              "  "
            ]
          },
          "metadata": {},
          "execution_count": 146
        }
      ]
    },
    {
      "cell_type": "code",
      "source": [
        "# Filter out CA stores\n",
        "df1 = df[df.loc[:, 'State'] == 'CA'].reset_index(drop = True)\n",
        "df1.State.value_counts()"
      ],
      "metadata": {
        "colab": {
          "base_uri": "https://localhost:8080/"
        },
        "id": "7DaUW5JaEN0r",
        "outputId": "64783925-e8ee-467a-a010-07beef382a85"
      },
      "execution_count": 147,
      "outputs": [
        {
          "output_type": "execute_result",
          "data": {
            "text/plain": [
              "CA    913\n",
              "Name: State, dtype: int64"
            ]
          },
          "metadata": {},
          "execution_count": 147
        }
      ]
    },
    {
      "cell_type": "code",
      "source": [
        "# Inspect dataset\n",
        "df1.head()"
      ],
      "metadata": {
        "colab": {
          "base_uri": "https://localhost:8080/",
          "height": 206
        },
        "id": "6rqrXDvPHc4x",
        "outputId": "a85c995d-575b-4384-a721-d3ea6991c8fc"
      },
      "execution_count": 149,
      "outputs": [
        {
          "output_type": "execute_result",
          "data": {
            "text/plain": [
              "   Store ID         City State  Zip Code  Category Sales  Product Count   Size\n",
              "0       104  Bakersfield    CA     93311          666.18              5  Large\n",
              "1       105  Canoga Park    CA     91303          868.80              3  Large\n",
              "2       106        Colma    CA     94014        11682.08              5  Large\n",
              "3       107   Costa Mesa    CA     92626        58509.72              5  Large\n",
              "4       108       Dublin    CA     94568         4601.87              4  Large"
            ],
            "text/html": [
              "\n",
              "  <div id=\"df-d3c392ea-00ba-4d73-aca6-3a4c9fd15a81\">\n",
              "    <div class=\"colab-df-container\">\n",
              "      <div>\n",
              "<style scoped>\n",
              "    .dataframe tbody tr th:only-of-type {\n",
              "        vertical-align: middle;\n",
              "    }\n",
              "\n",
              "    .dataframe tbody tr th {\n",
              "        vertical-align: top;\n",
              "    }\n",
              "\n",
              "    .dataframe thead th {\n",
              "        text-align: right;\n",
              "    }\n",
              "</style>\n",
              "<table border=\"1\" class=\"dataframe\">\n",
              "  <thead>\n",
              "    <tr style=\"text-align: right;\">\n",
              "      <th></th>\n",
              "      <th>Store ID</th>\n",
              "      <th>City</th>\n",
              "      <th>State</th>\n",
              "      <th>Zip Code</th>\n",
              "      <th>Category Sales</th>\n",
              "      <th>Product Count</th>\n",
              "      <th>Size</th>\n",
              "    </tr>\n",
              "  </thead>\n",
              "  <tbody>\n",
              "    <tr>\n",
              "      <th>0</th>\n",
              "      <td>104</td>\n",
              "      <td>Bakersfield</td>\n",
              "      <td>CA</td>\n",
              "      <td>93311</td>\n",
              "      <td>666.18</td>\n",
              "      <td>5</td>\n",
              "      <td>Large</td>\n",
              "    </tr>\n",
              "    <tr>\n",
              "      <th>1</th>\n",
              "      <td>105</td>\n",
              "      <td>Canoga Park</td>\n",
              "      <td>CA</td>\n",
              "      <td>91303</td>\n",
              "      <td>868.80</td>\n",
              "      <td>3</td>\n",
              "      <td>Large</td>\n",
              "    </tr>\n",
              "    <tr>\n",
              "      <th>2</th>\n",
              "      <td>106</td>\n",
              "      <td>Colma</td>\n",
              "      <td>CA</td>\n",
              "      <td>94014</td>\n",
              "      <td>11682.08</td>\n",
              "      <td>5</td>\n",
              "      <td>Large</td>\n",
              "    </tr>\n",
              "    <tr>\n",
              "      <th>3</th>\n",
              "      <td>107</td>\n",
              "      <td>Costa Mesa</td>\n",
              "      <td>CA</td>\n",
              "      <td>92626</td>\n",
              "      <td>58509.72</td>\n",
              "      <td>5</td>\n",
              "      <td>Large</td>\n",
              "    </tr>\n",
              "    <tr>\n",
              "      <th>4</th>\n",
              "      <td>108</td>\n",
              "      <td>Dublin</td>\n",
              "      <td>CA</td>\n",
              "      <td>94568</td>\n",
              "      <td>4601.87</td>\n",
              "      <td>4</td>\n",
              "      <td>Large</td>\n",
              "    </tr>\n",
              "  </tbody>\n",
              "</table>\n",
              "</div>\n",
              "      <button class=\"colab-df-convert\" onclick=\"convertToInteractive('df-d3c392ea-00ba-4d73-aca6-3a4c9fd15a81')\"\n",
              "              title=\"Convert this dataframe to an interactive table.\"\n",
              "              style=\"display:none;\">\n",
              "        \n",
              "  <svg xmlns=\"http://www.w3.org/2000/svg\" height=\"24px\"viewBox=\"0 0 24 24\"\n",
              "       width=\"24px\">\n",
              "    <path d=\"M0 0h24v24H0V0z\" fill=\"none\"/>\n",
              "    <path d=\"M18.56 5.44l.94 2.06.94-2.06 2.06-.94-2.06-.94-.94-2.06-.94 2.06-2.06.94zm-11 1L8.5 8.5l.94-2.06 2.06-.94-2.06-.94L8.5 2.5l-.94 2.06-2.06.94zm10 10l.94 2.06.94-2.06 2.06-.94-2.06-.94-.94-2.06-.94 2.06-2.06.94z\"/><path d=\"M17.41 7.96l-1.37-1.37c-.4-.4-.92-.59-1.43-.59-.52 0-1.04.2-1.43.59L10.3 9.45l-7.72 7.72c-.78.78-.78 2.05 0 2.83L4 21.41c.39.39.9.59 1.41.59.51 0 1.02-.2 1.41-.59l7.78-7.78 2.81-2.81c.8-.78.8-2.07 0-2.86zM5.41 20L4 18.59l7.72-7.72 1.47 1.35L5.41 20z\"/>\n",
              "  </svg>\n",
              "      </button>\n",
              "      \n",
              "  <style>\n",
              "    .colab-df-container {\n",
              "      display:flex;\n",
              "      flex-wrap:wrap;\n",
              "      gap: 12px;\n",
              "    }\n",
              "\n",
              "    .colab-df-convert {\n",
              "      background-color: #E8F0FE;\n",
              "      border: none;\n",
              "      border-radius: 50%;\n",
              "      cursor: pointer;\n",
              "      display: none;\n",
              "      fill: #1967D2;\n",
              "      height: 32px;\n",
              "      padding: 0 0 0 0;\n",
              "      width: 32px;\n",
              "    }\n",
              "\n",
              "    .colab-df-convert:hover {\n",
              "      background-color: #E2EBFA;\n",
              "      box-shadow: 0px 1px 2px rgba(60, 64, 67, 0.3), 0px 1px 3px 1px rgba(60, 64, 67, 0.15);\n",
              "      fill: #174EA6;\n",
              "    }\n",
              "\n",
              "    [theme=dark] .colab-df-convert {\n",
              "      background-color: #3B4455;\n",
              "      fill: #D2E3FC;\n",
              "    }\n",
              "\n",
              "    [theme=dark] .colab-df-convert:hover {\n",
              "      background-color: #434B5C;\n",
              "      box-shadow: 0px 1px 3px 1px rgba(0, 0, 0, 0.15);\n",
              "      filter: drop-shadow(0px 1px 2px rgba(0, 0, 0, 0.3));\n",
              "      fill: #FFFFFF;\n",
              "    }\n",
              "  </style>\n",
              "\n",
              "      <script>\n",
              "        const buttonEl =\n",
              "          document.querySelector('#df-d3c392ea-00ba-4d73-aca6-3a4c9fd15a81 button.colab-df-convert');\n",
              "        buttonEl.style.display =\n",
              "          google.colab.kernel.accessAllowed ? 'block' : 'none';\n",
              "\n",
              "        async function convertToInteractive(key) {\n",
              "          const element = document.querySelector('#df-d3c392ea-00ba-4d73-aca6-3a4c9fd15a81');\n",
              "          const dataTable =\n",
              "            await google.colab.kernel.invokeFunction('convertToInteractive',\n",
              "                                                     [key], {});\n",
              "          if (!dataTable) return;\n",
              "\n",
              "          const docLinkHtml = 'Like what you see? Visit the ' +\n",
              "            '<a target=\"_blank\" href=https://colab.research.google.com/notebooks/data_table.ipynb>data table notebook</a>'\n",
              "            + ' to learn more about interactive tables.';\n",
              "          element.innerHTML = '';\n",
              "          dataTable['output_type'] = 'display_data';\n",
              "          await google.colab.output.renderOutput(dataTable, element);\n",
              "          const docLink = document.createElement('div');\n",
              "          docLink.innerHTML = docLinkHtml;\n",
              "          element.appendChild(docLink);\n",
              "        }\n",
              "      </script>\n",
              "    </div>\n",
              "  </div>\n",
              "  "
            ]
          },
          "metadata": {},
          "execution_count": 149
        }
      ]
    },
    {
      "cell_type": "code",
      "source": [
        "column_names = df1['Store ID'].tolist()\n",
        "column_names[0:8]"
      ],
      "metadata": {
        "colab": {
          "base_uri": "https://localhost:8080/"
        },
        "id": "CY-ELIovHL8p",
        "outputId": "6f2b91f8-379e-4752-bbd4-ca7efa527719"
      },
      "execution_count": 155,
      "outputs": [
        {
          "output_type": "execute_result",
          "data": {
            "text/plain": [
              "['104', '105', '106', '107', '108', '109', '110', '111']"
            ]
          },
          "metadata": {},
          "execution_count": 155
        }
      ]
    },
    {
      "cell_type": "code",
      "source": [
        "# Inspect store id 111\n",
        "treatment_store = df1[df1['Store ID']== 111]\n",
        "treatment_store"
      ],
      "metadata": {
        "colab": {
          "base_uri": "https://localhost:8080/",
          "height": 81
        },
        "id": "I7-LYz74Ew8M",
        "outputId": "271e8977-7be5-483d-895d-53ebffccecfb"
      },
      "execution_count": 153,
      "outputs": [
        {
          "output_type": "execute_result",
          "data": {
            "text/plain": [
              "   Store ID    City State  Zip Code  Category Sales  Product Count   Size\n",
              "7       111  Irvine    CA     92618         9556.14              5  Large"
            ],
            "text/html": [
              "\n",
              "  <div id=\"df-4d08ec81-6def-4e50-bc33-8460aa43ebee\">\n",
              "    <div class=\"colab-df-container\">\n",
              "      <div>\n",
              "<style scoped>\n",
              "    .dataframe tbody tr th:only-of-type {\n",
              "        vertical-align: middle;\n",
              "    }\n",
              "\n",
              "    .dataframe tbody tr th {\n",
              "        vertical-align: top;\n",
              "    }\n",
              "\n",
              "    .dataframe thead th {\n",
              "        text-align: right;\n",
              "    }\n",
              "</style>\n",
              "<table border=\"1\" class=\"dataframe\">\n",
              "  <thead>\n",
              "    <tr style=\"text-align: right;\">\n",
              "      <th></th>\n",
              "      <th>Store ID</th>\n",
              "      <th>City</th>\n",
              "      <th>State</th>\n",
              "      <th>Zip Code</th>\n",
              "      <th>Category Sales</th>\n",
              "      <th>Product Count</th>\n",
              "      <th>Size</th>\n",
              "    </tr>\n",
              "  </thead>\n",
              "  <tbody>\n",
              "    <tr>\n",
              "      <th>7</th>\n",
              "      <td>111</td>\n",
              "      <td>Irvine</td>\n",
              "      <td>CA</td>\n",
              "      <td>92618</td>\n",
              "      <td>9556.14</td>\n",
              "      <td>5</td>\n",
              "      <td>Large</td>\n",
              "    </tr>\n",
              "  </tbody>\n",
              "</table>\n",
              "</div>\n",
              "      <button class=\"colab-df-convert\" onclick=\"convertToInteractive('df-4d08ec81-6def-4e50-bc33-8460aa43ebee')\"\n",
              "              title=\"Convert this dataframe to an interactive table.\"\n",
              "              style=\"display:none;\">\n",
              "        \n",
              "  <svg xmlns=\"http://www.w3.org/2000/svg\" height=\"24px\"viewBox=\"0 0 24 24\"\n",
              "       width=\"24px\">\n",
              "    <path d=\"M0 0h24v24H0V0z\" fill=\"none\"/>\n",
              "    <path d=\"M18.56 5.44l.94 2.06.94-2.06 2.06-.94-2.06-.94-.94-2.06-.94 2.06-2.06.94zm-11 1L8.5 8.5l.94-2.06 2.06-.94-2.06-.94L8.5 2.5l-.94 2.06-2.06.94zm10 10l.94 2.06.94-2.06 2.06-.94-2.06-.94-.94-2.06-.94 2.06-2.06.94z\"/><path d=\"M17.41 7.96l-1.37-1.37c-.4-.4-.92-.59-1.43-.59-.52 0-1.04.2-1.43.59L10.3 9.45l-7.72 7.72c-.78.78-.78 2.05 0 2.83L4 21.41c.39.39.9.59 1.41.59.51 0 1.02-.2 1.41-.59l7.78-7.78 2.81-2.81c.8-.78.8-2.07 0-2.86zM5.41 20L4 18.59l7.72-7.72 1.47 1.35L5.41 20z\"/>\n",
              "  </svg>\n",
              "      </button>\n",
              "      \n",
              "  <style>\n",
              "    .colab-df-container {\n",
              "      display:flex;\n",
              "      flex-wrap:wrap;\n",
              "      gap: 12px;\n",
              "    }\n",
              "\n",
              "    .colab-df-convert {\n",
              "      background-color: #E8F0FE;\n",
              "      border: none;\n",
              "      border-radius: 50%;\n",
              "      cursor: pointer;\n",
              "      display: none;\n",
              "      fill: #1967D2;\n",
              "      height: 32px;\n",
              "      padding: 0 0 0 0;\n",
              "      width: 32px;\n",
              "    }\n",
              "\n",
              "    .colab-df-convert:hover {\n",
              "      background-color: #E2EBFA;\n",
              "      box-shadow: 0px 1px 2px rgba(60, 64, 67, 0.3), 0px 1px 3px 1px rgba(60, 64, 67, 0.15);\n",
              "      fill: #174EA6;\n",
              "    }\n",
              "\n",
              "    [theme=dark] .colab-df-convert {\n",
              "      background-color: #3B4455;\n",
              "      fill: #D2E3FC;\n",
              "    }\n",
              "\n",
              "    [theme=dark] .colab-df-convert:hover {\n",
              "      background-color: #434B5C;\n",
              "      box-shadow: 0px 1px 3px 1px rgba(0, 0, 0, 0.15);\n",
              "      filter: drop-shadow(0px 1px 2px rgba(0, 0, 0, 0.3));\n",
              "      fill: #FFFFFF;\n",
              "    }\n",
              "  </style>\n",
              "\n",
              "      <script>\n",
              "        const buttonEl =\n",
              "          document.querySelector('#df-4d08ec81-6def-4e50-bc33-8460aa43ebee button.colab-df-convert');\n",
              "        buttonEl.style.display =\n",
              "          google.colab.kernel.accessAllowed ? 'block' : 'none';\n",
              "\n",
              "        async function convertToInteractive(key) {\n",
              "          const element = document.querySelector('#df-4d08ec81-6def-4e50-bc33-8460aa43ebee');\n",
              "          const dataTable =\n",
              "            await google.colab.kernel.invokeFunction('convertToInteractive',\n",
              "                                                     [key], {});\n",
              "          if (!dataTable) return;\n",
              "\n",
              "          const docLinkHtml = 'Like what you see? Visit the ' +\n",
              "            '<a target=\"_blank\" href=https://colab.research.google.com/notebooks/data_table.ipynb>data table notebook</a>'\n",
              "            + ' to learn more about interactive tables.';\n",
              "          element.innerHTML = '';\n",
              "          dataTable['output_type'] = 'display_data';\n",
              "          await google.colab.output.renderOutput(dataTable, element);\n",
              "          const docLink = document.createElement('div');\n",
              "          docLink.innerHTML = docLinkHtml;\n",
              "          element.appendChild(docLink);\n",
              "        }\n",
              "      </script>\n",
              "    </div>\n",
              "  </div>\n",
              "  "
            ]
          },
          "metadata": {},
          "execution_count": 153
        }
      ]
    },
    {
      "cell_type": "code",
      "source": [
        "# Filter for stores in CA\n",
        "\n",
        "df1[['Store ID', 'Zip Code'] ]=df1[['Store ID', 'Zip Code']].astype(str)\n",
        "\n",
        "num_cols = []\n",
        "for names in df1.columns:\n",
        "  if df1[names].dtype != 'object':\n",
        "    num_cols.append(names)\n",
        "    \n",
        "num_cols "
      ],
      "metadata": {
        "colab": {
          "base_uri": "https://localhost:8080/"
        },
        "id": "VTfMt9_emniO",
        "outputId": "422d46d0-a136-4ba4-842e-a80fc985f2d8"
      },
      "execution_count": 156,
      "outputs": [
        {
          "output_type": "execute_result",
          "data": {
            "text/plain": [
              "['Category Sales', 'Product Count']"
            ]
          },
          "metadata": {},
          "execution_count": 156
        }
      ]
    },
    {
      "cell_type": "code",
      "source": [
        "# Create feature matrix\n",
        "X = df1[num_cols].values\n",
        "min_max_scaler = MinMaxScaler()\n",
        "feature_mtx = min_max_scaler.fit_transform(X)\n",
        "feature_mtx[0:5]"
      ],
      "metadata": {
        "colab": {
          "base_uri": "https://localhost:8080/"
        },
        "id": "rHOFsKav6BF1",
        "outputId": "1ff3a46b-455e-445a-8bec-6e2b3f92c244"
      },
      "execution_count": 157,
      "outputs": [
        {
          "output_type": "execute_result",
          "data": {
            "text/plain": [
              "array([[0.00084025, 0.57142857],\n",
              "       [0.00109718, 0.28571429],\n",
              "       [0.01480897, 0.57142857],\n",
              "       [0.07418878, 0.57142857],\n",
              "       [0.0058309 , 0.42857143]])"
            ]
          },
          "metadata": {},
          "execution_count": 157
        }
      ]
    },
    {
      "cell_type": "code",
      "source": [
        "# Visualize dataset\n",
        "plt.scatter(feature_mtx[:,0], feature_mtx[:,1])\n",
        "plt.show()"
      ],
      "metadata": {
        "colab": {
          "base_uri": "https://localhost:8080/",
          "height": 265
        },
        "id": "_Z_8OOeP2loc",
        "outputId": "2472f556-1239-4506-feb5-63bd987738b6"
      },
      "execution_count": 143,
      "outputs": [
        {
          "output_type": "display_data",
          "data": {
            "text/plain": [
              "<Figure size 432x288 with 1 Axes>"
            ],
            "image/png": "[encoded data removed]"
          },
          "metadata": {
            "needs_background": "light"
          }
        }
      ]
    },
    {
      "cell_type": "code",
      "source": [
        "# Clustering using scipy\n",
        "import scipy\n",
        "leng = feature_mtx.shape[0]\n",
        "\n",
        "D =np.zeros([leng, leng])\n",
        "\n",
        "for i in range(leng):\n",
        "  for j in range(leng):\n",
        "    D[i,j] = scipy.spatial.distance.euclidean( feature_mtx[i], feature_mtx[j])\n"
      ],
      "metadata": {
        "colab": {
          "base_uri": "https://localhost:8080/"
        },
        "id": "5Bd2bIQ633Vl",
        "outputId": "733f74f6-fcb9-4ac2-92c9-30508e3937e6"
      },
      "execution_count": 144,
      "outputs": [
        {
          "output_type": "execute_result",
          "data": {
            "text/plain": [
              "array([1.12729182e-02, 2.85926573e-01, 2.69579926e-03, 6.20756112e-02,\n",
              "       1.42995210e-01, 7.02847419e-03, 6.39013757e-03, 0.00000000e+00,\n",
              "       1.43122010e-01, 2.85965729e-01, 1.43337955e-01, 1.16261970e-02,\n",
              "       2.85875261e-01, 2.85957875e-01, 2.85960810e-01, 1.43321656e-01,\n",
              "       1.42966210e-01, 1.73211893e-02, 2.85970022e-01, 1.43314201e-01,\n",
              "       1.01224920e-02, 1.43021393e-01, 1.52579209e-01, 1.43048875e-01,\n",
              "       1.43524658e-01, 2.85870007e-01, 1.42949209e-01, 1.43895611e-01,\n",
              "       9.55738533e-03, 1.42941443e-01, 1.42887376e-01, 9.71806000e-03,\n",
              "       5.31054474e-03, 2.17995632e-03, 1.43486469e-01, 1.44405599e-01,\n",
              "       2.71868250e-02, 1.47753499e-01, 4.28732348e-01, 3.86016127e-03,\n",
              "       7.25508749e-03, 1.55671212e-01, 1.43326242e-01, 2.91639309e-01,\n",
              "       2.38543123e-03, 1.43169290e-01, 1.43001556e-01, 1.43046613e-01,\n",
              "       2.81722778e-03, 2.85955214e-01, 2.85937883e-01, 1.42867579e-01,\n",
              "       1.43243640e-01, 4.96998442e-03, 4.28738587e-01, 5.98986729e-02,\n",
              "       1.43321508e-01, 1.43043933e-01, 1.42861840e-01, 1.48327909e-01,\n",
              "       4.28742044e-01, 1.42890751e-01, 1.42884464e-01, 2.85969776e-01,\n",
              "       1.42876696e-01, 1.43201081e-01, 2.85921942e-01, 1.88798770e-02,\n",
              "       1.42913095e-03, 1.45184260e-01, 2.85799838e-01, 1.43263998e-01,\n",
              "       1.42883993e-01, 2.64563519e-03, 1.43350875e-01, 1.23462468e-03,\n",
              "       4.38958503e-03, 1.91513666e-03, 1.02690279e-02, 1.43322587e-01,\n",
              "       2.85948799e-01, 1.43256991e-01, 6.87199676e-03, 1.42870293e-01,\n",
              "       8.15450303e-03, 1.42873017e-01, 2.49477522e-03, 2.23028525e-03,\n",
              "       1.46286908e-01, 2.85998639e-01, 1.46223923e-01, 2.85961036e-01,\n",
              "       2.85969679e-01, 1.43289609e-01, 5.71556303e-01, 1.43289020e-01,\n",
              "       1.01175974e-02, 1.43121897e-01, 2.91607311e-01, 1.43021230e-01,\n",
              "       5.22586433e-03, 2.85924746e-01, 1.06606273e-02, 2.85952644e-01,\n",
              "       4.28733277e-01, 1.43305195e-01, 1.56808540e-01, 2.85943315e-01,\n",
              "       2.85968256e-01, 2.85961361e-01, 4.17051663e-03, 3.00718174e-03,\n",
              "       4.93564363e-01, 2.59182673e-02, 1.05954241e-02, 1.43358013e-01,\n",
              "       1.43198086e-01, 1.56562390e-03, 2.85960188e-01, 1.43215466e-01,\n",
              "       1.44518240e-01, 1.43294085e-01, 5.23730214e-04, 1.43351826e-01,\n",
              "       1.09528115e-02, 1.43181201e-01, 3.80500614e-02, 9.55095631e-05,\n",
              "       1.87694298e-03, 2.85961796e-01, 2.87715964e-01, 5.26487717e-02,\n",
              "       5.67665628e-03, 5.83676033e-03, 1.43237343e-01, 1.12886673e-02,\n",
              "       2.85962288e-01, 1.42904423e-01, 1.43164395e-01, 2.85969232e-01,\n",
              "       1.43317975e-01, 7.76796319e-03, 9.26157451e-03, 1.43048583e-01,\n",
              "       1.48071712e-01, 1.43107184e-01, 8.48888794e-03, 5.35695539e-03,\n",
              "       1.43202231e-01, 2.85878935e-01, 1.60333710e-01, 1.15600936e-02,\n",
              "       1.43225956e-01, 9.39734467e-03, 1.43308200e-01, 1.13277487e-02,\n",
              "       1.43354659e-01, 1.42989249e-01, 1.76984712e-01, 1.45184007e-01,\n",
              "       8.52665048e-03, 1.42861575e-01, 2.88420697e-01, 1.43261482e-01,\n",
              "       2.79783168e-02, 1.11518701e-02, 1.16830564e-03, 2.74480942e-03,\n",
              "       1.42863839e-01, 1.43011274e-01, 1.47804038e-01, 4.28733623e-01,\n",
              "       3.82543874e-01, 2.85959606e-01, 1.83436184e-03, 1.49929354e-01,\n",
              "       1.02569307e-02, 1.43517616e-01, 5.92978452e-04, 1.49294562e-01,\n",
              "       4.28733151e-01, 1.42889585e-01, 3.84648248e-01, 1.42896597e-01,\n",
              "       7.95279423e-03, 1.43288864e-01, 1.39523342e-02, 6.58744623e-03,\n",
              "       1.45058290e-01, 1.43331031e-01, 1.09315843e-02, 2.88973525e-01,\n",
              "       1.43361158e-01, 6.68853521e-03, 1.42879096e-01, 1.13831117e-02,\n",
              "       2.02339520e-02, 1.55802283e-01, 3.08169239e-03, 1.42864584e-01,\n",
              "       3.41600122e-03, 5.71555927e-01, 8.78124966e-04, 3.38442677e-04,\n",
              "       8.59049683e-03, 1.43241602e-01, 4.28736247e-01, 1.43362551e-01,\n",
              "       4.03815752e-03, 6.70195119e-02, 1.43282321e-01, 1.43327289e-01,\n",
              "       2.87967193e-01, 1.64595824e-01, 8.54371844e-03, 1.43359140e-01,\n",
              "       1.43099509e-01, 2.58613445e-02, 2.48347689e-03, 2.86616891e-01,\n",
              "       1.56070548e-01, 5.59724842e-02, 4.86525613e-03, 7.24987580e-03,\n",
              "       1.47859394e-01, 1.47010676e-01, 2.02571066e-03, 4.54177645e-03,\n",
              "       2.83482832e-03, 1.42959727e-01, 1.43304386e-01, 1.44963472e-01,\n",
              "       3.22574293e-03, 1.44464747e-01, 1.04888825e-02, 8.69230860e-03,\n",
              "       1.43318150e-01, 1.42889085e-01, 1.42971938e-01, 1.43230980e-01,\n",
              "       1.43269747e-01, 1.43220656e-01, 1.16271861e-02, 8.10220862e-03,\n",
              "       2.85945951e-01, 2.86849506e-02, 1.43271984e-01, 1.76291762e-01,\n",
              "       1.43603686e-01, 1.43063299e-01, 2.66146046e-03, 3.63791922e-01,\n",
              "       2.86704787e-01, 3.00869473e-01, 2.85958272e-01, 1.42897811e-01,\n",
              "       1.43080840e-01, 6.36863143e-03, 3.79431141e-03, 1.42923323e-01,\n",
              "       1.43121368e-01, 1.43251373e-01, 1.43244710e-01, 2.85901373e-01,\n",
              "       1.45999361e-01, 1.67671027e-01, 2.87043871e-01, 2.86078423e-01,\n",
              "       1.43521634e-01, 1.03850799e-03, 7.19887481e-03, 1.07550337e-02,\n",
              "       1.86572000e-01, 1.43345062e-01, 1.43026525e-01, 1.43546947e-01,\n",
              "       1.42897587e-01, 1.10379357e-02, 2.87565934e-01, 2.45911764e-03,\n",
              "       1.42864443e-01, 2.85889487e-01, 1.43029963e-01, 1.43193472e-01,\n",
              "       1.11768507e-03, 1.55278201e-01, 7.47864741e-01, 6.33226375e-03,\n",
              "       2.92402399e-01, 4.22166978e-03, 1.46336073e-01, 4.49024034e-02,\n",
              "       8.58766654e-02, 2.85964865e-01, 2.57628551e-02, 7.72689357e-02,\n",
              "       2.87519986e-01, 3.97178775e-03, 9.75580987e-03, 2.86505864e-03,\n",
              "       1.43081876e-01, 1.45374958e-01, 1.08861450e-01, 5.60947496e-03,\n",
              "       2.50817851e-03, 1.43043510e-01, 1.43207121e-01, 2.85963415e-01,\n",
              "       2.69579926e-03, 1.57797621e-01, 1.43073963e-01, 4.84631146e-03,\n",
              "       1.42943162e-01, 1.50856129e-01, 8.32386385e-03, 1.14761867e-02,\n",
              "       1.43205917e-01, 2.85958285e-01, 1.05393002e-02, 1.43137016e-01,\n",
              "       4.28742010e-01, 1.43316416e-01, 1.42966210e-01, 1.45231314e-01,\n",
              "       2.85965587e-01, 1.16842864e-02, 2.85888150e-01, 6.85241806e-03,\n",
              "       1.45761336e-01, 8.04552677e-04, 1.46207904e-01, 1.43636146e-01,\n",
              "       1.42863544e-01, 1.42885702e-01, 2.86234932e-01, 1.16521667e-02,\n",
              "       2.39284425e-02, 1.42909202e-01, 1.43020729e-01, 1.42929717e-01,\n",
              "       1.43156824e-01, 1.42908901e-01, 1.43995655e-01, 1.44737771e-01,\n",
              "       1.49103799e-01, 2.85926002e-01, 8.52609254e-03, 6.03944553e-03,\n",
              "       4.47801633e-02, 1.45169805e-01, 1.49588015e-01, 1.50745843e-03,\n",
              "       2.86285485e-01, 3.17722731e-04, 2.85951372e-01, 1.43061141e-01,\n",
              "       1.43343617e-01, 1.43333402e-01, 2.85890616e-01, 1.43220474e-01,\n",
              "       1.86313391e-03, 1.43357839e-01, 3.01381445e-01, 9.16858837e-03,\n",
              "       9.11147537e-03, 1.42873480e-01, 1.44628929e-01, 1.43338978e-01,\n",
              "       1.43379599e-01, 2.79404782e-03, 2.85969097e-01, 2.36369684e-03,\n",
              "       2.86369672e-01, 1.12007788e-02, 1.46241351e-01, 2.13372320e-03,\n",
              "       4.51608575e-03, 1.42972719e-01, 1.12637375e-02, 6.57788513e-03,\n",
              "       1.42929266e-01, 2.85958608e-01, 1.42906251e-01, 2.45755794e-03,\n",
              "       1.42857198e-01, 2.85877299e-01, 2.85949624e-01, 2.85946380e-01,\n",
              "       2.85962602e-01, 8.44569814e-03, 1.43177521e-01, 2.86068735e-01,\n",
              "       2.85914308e-01, 1.42861839e-01, 3.87818027e-03, 4.18877655e-03,\n",
              "       4.75652714e-02, 2.87412466e-01, 1.43273427e-01, 2.85967500e-01,\n",
              "       1.10138554e-02, 2.85963817e-01, 1.43349220e-01, 7.11749133e-03,\n",
              "       2.85795402e-01, 2.88883507e-01, 1.43137632e-01, 2.46914792e-03,\n",
              "       2.92407371e-03, 1.43254362e-01, 1.43315332e-01, 4.28739849e-01,\n",
              "       2.85968554e-01, 1.65648619e-01, 1.43314652e-01, 2.85967026e-01,\n",
              "       1.09529890e-02, 1.43094734e-01, 4.82928154e-03, 2.99751142e-01,\n",
              "       2.88142518e-01, 7.61121947e-04, 2.85967649e-01, 1.42961792e-01,\n",
              "       1.43332244e-01, 1.01245463e-02, 1.92780448e-03, 1.17433015e-02,\n",
              "       4.11384745e-03, 2.85960131e-01, 1.43302228e-01, 9.12920272e-04,\n",
              "       2.85868308e-01, 2.87078736e-01, 1.43005844e-01, 2.85959028e-01,\n",
              "       2.86659910e-01, 2.85807842e-01, 5.05835486e-03, 1.42895818e-01,\n",
              "       1.43167153e-01, 2.99866044e-03, 1.43335161e-01, 1.60111579e-01,\n",
              "       1.43983095e-01, 2.85968282e-01, 1.43297883e-01, 1.43106075e-01,\n",
              "       8.19054102e-03, 1.44129354e-01, 1.44530147e-01, 1.16294432e-02,\n",
              "       1.50981446e-02, 1.43074982e-01, 4.84402897e-03, 8.25126796e-03,\n",
              "       3.02140282e-01, 1.43337042e-01, 1.43105422e-01, 1.10295412e-02,\n",
              "       1.10586176e-02, 1.14593977e-02, 2.85965686e-01, 7.14051913e-03,\n",
              "       1.52534786e-01, 8.31701638e-03, 1.43155966e-01, 3.28899328e-03,\n",
              "       2.95085798e-01, 1.43325143e-01, 1.42874118e-01, 2.85936891e-01,\n",
              "       2.26324188e-03, 5.42276721e-03, 1.42930554e-01, 8.46446529e-03,\n",
              "       1.49797306e-01, 8.86040137e-03, 3.36749696e-01, 1.43313637e-01,\n",
              "       1.35905848e-02, 1.48282176e-01, 3.54455618e-03, 2.87135792e-01,\n",
              "       4.91473546e-03, 2.92334668e-01, 1.43334565e-01, 1.42873132e-01,\n",
              "       3.25725919e-01, 1.43874834e-01, 1.43259495e-01, 2.85914003e-01,\n",
              "       1.42921743e-01, 1.42984536e-01, 2.86517965e-01, 1.43315813e-01,\n",
              "       1.43274781e-01, 2.86044183e-01, 2.85966626e-01, 6.68853521e-03,\n",
              "       5.42903138e-03, 1.83387998e-03, 1.44282972e-01, 2.87072111e-01,\n",
              "       1.43013988e-01, 2.52407987e-03, 9.63649900e-03, 4.28741563e-01,\n",
              "       9.51850690e-03, 1.42897559e-01, 1.42895247e-01, 1.43290812e-01,\n",
              "       2.85965305e-01, 2.85966903e-01, 1.43133231e-01, 2.90740985e-01,\n",
              "       1.24073669e-03, 1.13774309e-02, 5.04630584e-02, 1.42892594e-01,\n",
              "       1.43036750e-01, 9.27320253e-03, 1.69288545e-03, 1.43254134e-01,\n",
              "       1.43855760e-01, 3.05383939e-01, 2.87916882e-01, 1.42857146e-01,\n",
              "       6.76309658e-03, 2.90626853e-01, 6.60873679e-03, 2.02571066e-03,\n",
              "       2.85933939e-01, 1.43104156e-01, 1.42933455e-01, 1.42915132e-01,\n",
              "       2.87707427e-01, 1.42867155e-01, 1.81309030e-02, 6.68838305e-03,\n",
              "       1.42901351e-01, 1.43268911e-01, 1.44006758e-01, 8.12422198e-03,\n",
              "       2.85956306e-01, 1.43139546e-01, 1.05176926e-02, 2.85938958e-01,\n",
              "       1.43064543e-01, 2.87150622e-01, 1.13024637e-02, 3.14796784e-01,\n",
              "       1.42911113e-01, 1.42893820e-01, 1.43217063e-01, 3.16517788e-01,\n",
              "       1.43450388e-01, 1.67363760e-01, 1.43338179e-01, 2.95386297e-01,\n",
              "       1.43302862e-01, 2.85947352e-01, 1.42951081e-01, 1.53265966e-02,\n",
              "       1.44561393e-01, 1.43148153e-01, 1.43281446e-01, 1.43205738e-01,\n",
              "       2.85911946e-01, 1.47781521e-01, 1.96531469e-02, 6.80822650e-03,\n",
              "       1.43109856e-01, 2.15685244e-02, 1.42857412e-01, 5.87096346e-02,\n",
              "       5.30448346e-03, 1.68585235e-01, 2.85953614e-01, 1.42969579e-01,\n",
              "       5.87652640e-03, 1.42897587e-01, 5.63928683e-03, 2.85173651e-02,\n",
              "       9.04754027e-04, 1.42859474e-01, 1.43075239e-01, 1.53041495e-01,\n",
              "       2.85900664e-01, 8.81766807e-03, 2.88040068e-01, 4.48731509e-01,\n",
              "       1.42927600e-01, 1.58914681e-01, 3.67432847e-03, 2.95535543e-01,\n",
              "       7.13658817e-04, 1.47540709e-01, 1.43363880e-01, 3.03454627e-03,\n",
              "       1.57095130e-01, 1.43208643e-01, 1.43029839e-01, 1.43091215e-01,\n",
              "       1.76124605e-03, 1.43363864e-01, 1.49062641e-01, 6.04698028e-02,\n",
              "       1.42864823e-01, 1.43880986e-01, 1.43186660e-01, 1.43000416e-01,\n",
              "       1.08505559e-02, 1.43295479e-01, 1.42893644e-01, 1.47657632e-01,\n",
              "       1.43019498e-01, 7.02847419e-03, 9.25390280e-03, 2.88017701e-01,\n",
              "       1.43001640e-01, 1.08347053e-02, 1.43219547e-01, 1.43364975e-01,\n",
              "       1.43245384e-01, 1.43137016e-01, 2.85956738e-01, 1.43290656e-01,\n",
              "       1.42875918e-01, 2.87848169e-01, 1.43362393e-01, 2.85945571e-01,\n",
              "       1.43248600e-01, 1.43207523e-01, 2.03154369e-04, 2.69006768e-03,\n",
              "       1.44005532e-01, 5.38264609e-03, 2.88079458e-01, 1.43192214e-01,\n",
              "       2.85872512e-01, 9.36413443e-03, 1.43044479e-01, 1.42907617e-01,\n",
              "       2.10932591e-03, 4.13589885e-03, 1.43141298e-01, 1.42902600e-01,\n",
              "       2.93608338e-01, 1.43270635e-01, 5.92453479e-03, 1.42919340e-01,\n",
              "       1.60532431e-01, 2.85949124e-01, 1.60250524e-01, 1.42865096e-01,\n",
              "       1.42859509e-01, 1.42935738e-01, 7.36004403e-03, 1.17781602e-02,\n",
              "       2.85944883e-01, 1.43309657e-01, 1.43119632e-01, 1.43209159e-01,\n",
              "       3.41655916e-03, 1.43310068e-01, 1.03108482e-01, 1.06431282e-02,\n",
              "       1.43043933e-01, 1.05418110e-03, 1.71163992e-03, 2.85961311e-01,\n",
              "       1.43152150e-01, 3.72640730e-03, 4.28741254e-01, 1.42868692e-01,\n",
              "       8.96958052e-03, 1.13535915e-02, 1.88798770e-02, 1.42857347e-01,\n",
              "       2.86299020e-01, 9.11578674e-03, 2.85932503e-01, 1.44120592e-01,\n",
              "       1.42861717e-01, 1.43350875e-01, 1.42930646e-01, 1.42924567e-01,\n",
              "       1.14562022e-03, 9.03660967e-03, 1.43295152e-01, 1.43306436e-01,\n",
              "       1.43212785e-01, 1.42998088e-01, 1.43477760e-01, 2.85830630e-01,\n",
              "       1.43156521e-01, 5.93701241e-05, 5.52607528e-03, 1.45485003e-01,\n",
              "       3.76181127e-02, 1.47208898e-01, 1.43255288e-01, 2.85969679e-01,\n",
              "       2.85939438e-01, 1.43362828e-01, 1.12834937e-02, 4.61740298e-03,\n",
              "       7.61819375e-04, 1.57431589e-01, 1.58037133e-03, 7.29340798e-03,\n",
              "       6.25681474e-04, 2.85902385e-01, 1.43309431e-01, 2.85964019e-01,\n",
              "       1.43319798e-01, 2.97764932e-01, 1.42871400e-01, 4.28740510e-01,\n",
              "       1.43224689e-01, 6.20653654e-03, 1.42938746e-01, 4.30401405e-01,\n",
              "       1.49757900e-01, 1.42916137e-01, 2.86006663e-01, 1.43352854e-01,\n",
              "       8.60032422e-03, 2.85944211e-01, 8.13142451e-03, 1.42864694e-01,\n",
              "       2.85933007e-01, 9.79888554e-03, 1.43351826e-01, 1.16184366e-02,\n",
              "       1.42857529e-01, 2.86696916e-01, 2.85824015e-01, 1.42869473e-01,\n",
              "       1.43347837e-01, 2.86172525e-01, 2.90524605e-01, 1.43162948e-01,\n",
              "       1.43033119e-01, 2.85923499e-01, 3.82766113e-03, 1.15278470e-02,\n",
              "       1.42904423e-01, 2.86580870e-01, 4.28742578e-01, 1.43292930e-01,\n",
              "       8.77173928e-03, 1.43112626e-01, 2.86021494e-01, 2.86314062e-01,\n",
              "       9.67651867e-03, 1.42984189e-01, 8.31475925e-03, 1.43153605e-01,\n",
              "       1.43237101e-01, 1.43480065e-01, 1.43333791e-01, 1.42981622e-01,\n",
              "       1.15735983e-02, 1.43290387e-01, 1.15910467e-02, 1.43357740e-01,\n",
              "       8.63366127e-03, 1.55239188e-01, 1.43022986e-01, 2.85956145e-01,\n",
              "       7.70333066e-03, 1.90030314e-01, 2.85927045e-01, 1.43809423e-01,\n",
              "       1.43317171e-01, 2.85926833e-01, 1.42986989e-01, 1.90486545e-04,\n",
              "       1.43254047e-01, 1.54700378e-01, 1.43195466e-01, 4.45360245e-01,\n",
              "       1.43308166e-01, 3.30727857e-03, 8.00775915e-02, 1.44457669e-01,\n",
              "       2.48403230e-02, 1.06770866e-02, 1.46875155e-01, 2.85962136e-01,\n",
              "       5.76659910e-03, 3.17977014e-01, 1.45175709e-01, 1.42868049e-01,\n",
              "       1.43245545e-01, 2.87242890e-01, 4.92837968e-03, 1.42884563e-01,\n",
              "       1.43308298e-01, 1.43283880e-01, 2.48132374e-02, 2.85966128e-01,\n",
              "       6.08529823e-03, 9.19321391e-03, 4.77210514e-03, 1.42968723e-01,\n",
              "       2.89241521e-01, 1.42981176e-01, 1.73972723e-03, 1.44647689e-01,\n",
              "       1.42899457e-01, 9.07163322e-04, 1.10921449e-03, 2.85944253e-01,\n",
              "       4.28733065e-01, 2.85969015e-01, 1.42877677e-01, 3.00592660e-01,\n",
              "       1.43202696e-01, 1.43280579e-01, 1.55993114e-01, 2.54307653e-02,\n",
              "       1.43168516e-01, 1.43359140e-01, 1.43047481e-01, 1.44603989e-01,\n",
              "       2.85935455e-01, 1.44653906e-01, 2.98186426e-01, 1.44530185e-01,\n",
              "       1.43365044e-01, 1.43040987e-01, 1.52445000e-01, 1.52520057e-01,\n",
              "       5.05329534e-03, 1.43238968e-01, 1.43161673e-01, 2.85940546e-01,\n",
              "       1.42940315e-01, 1.46802840e-01, 1.57060734e-04, 1.47699478e-02,\n",
              "       1.43099052e-01, 1.43235565e-01, 1.43207567e-01, 1.44006758e-01,\n",
              "       6.52684609e-03, 1.43230980e-01, 1.42977131e-01, 2.85964401e-01,\n",
              "       2.85948783e-01, 6.09447892e-03, 2.85937753e-01, 4.55905237e-02,\n",
              "       1.44640986e-01, 1.42893820e-01, 2.26491571e-03, 3.30369449e-01,\n",
              "       2.89293936e-01, 1.54491771e-01, 2.85967890e-01, 1.54014269e-01,\n",
              "       1.43270982e-01, 5.79372270e-03, 2.85915714e-01, 6.62881003e-03,\n",
              "       2.87546300e-01, 1.42932191e-01, 2.85921994e-01, 1.43297817e-01,\n",
              "       1.44303301e-01, 1.73110344e-01, 2.85819080e-01, 1.42898310e-01,\n",
              "       1.42860918e-01, 1.52119686e-01, 1.43211881e-01, 3.13968378e-01,\n",
              "       2.85952386e-01, 5.66897189e-03, 4.24069054e-03, 6.01499751e-03,\n",
              "       1.32037026e-03, 2.86180397e-01, 1.42920903e-01, 2.85925477e-01,\n",
              "       1.43031131e-01, 1.47262197e-01, 1.43176126e-01, 1.43065460e-01,\n",
              "       1.51729475e-01, 1.07684440e+00, 4.48727564e-03, 3.24616868e-02,\n",
              "       1.42919508e-01, 2.92141609e-01, 2.93627921e-01, 2.94056218e-01,\n",
              "       2.85962999e-01, 1.44010142e-01, 1.50538656e-01, 4.54599399e-02,\n",
              "       1.42927401e-01, 9.36216895e-03, 2.68650445e-03, 1.42912837e-01,\n",
              "       1.42922033e-01, 1.79607847e-01, 1.42864823e-01, 2.00591893e-02,\n",
              "       7.29948194e-03])"
            ]
          },
          "metadata": {},
          "execution_count": 144
        }
      ]
    },
    {
      "cell_type": "code",
      "source": [
        "# convert numpy array to dataframe\n",
        "df = pd.DataFrame(D[7,:], index = column_names,columns= [\"score\"])\n",
        "df.reset_index(drop = False, inplace= True)\n",
        "# Rename column name\n",
        "df.rename(columns = {'index':'Store ID'}, inplace = True)\n",
        "#print(\"\\nPandas DataFrame: \")\n",
        "df.head()"
      ],
      "metadata": {
        "colab": {
          "base_uri": "https://localhost:8080/",
          "height": 206
        },
        "id": "2D6XYSuIFVCQ",
        "outputId": "3baea6fd-712b-4db7-b863-a77ce2b786c0"
      },
      "execution_count": 184,
      "outputs": [
        {
          "output_type": "execute_result",
          "data": {
            "text/plain": [
              "  Store ID     score\n",
              "0      104  0.011273\n",
              "1      105  0.285927\n",
              "2      106  0.002696\n",
              "3      107  0.062076\n",
              "4      108  0.142995"
            ],
            "text/html": [
              "\n",
              "  <div id=\"df-5275c025-50fd-4591-973e-9a0e3812bc69\">\n",
              "    <div class=\"colab-df-container\">\n",
              "      <div>\n",
              "<style scoped>\n",
              "    .dataframe tbody tr th:only-of-type {\n",
              "        vertical-align: middle;\n",
              "    }\n",
              "\n",
              "    .dataframe tbody tr th {\n",
              "        vertical-align: top;\n",
              "    }\n",
              "\n",
              "    .dataframe thead th {\n",
              "        text-align: right;\n",
              "    }\n",
              "</style>\n",
              "<table border=\"1\" class=\"dataframe\">\n",
              "  <thead>\n",
              "    <tr style=\"text-align: right;\">\n",
              "      <th></th>\n",
              "      <th>Store ID</th>\n",
              "      <th>score</th>\n",
              "    </tr>\n",
              "  </thead>\n",
              "  <tbody>\n",
              "    <tr>\n",
              "      <th>0</th>\n",
              "      <td>104</td>\n",
              "      <td>0.011273</td>\n",
              "    </tr>\n",
              "    <tr>\n",
              "      <th>1</th>\n",
              "      <td>105</td>\n",
              "      <td>0.285927</td>\n",
              "    </tr>\n",
              "    <tr>\n",
              "      <th>2</th>\n",
              "      <td>106</td>\n",
              "      <td>0.002696</td>\n",
              "    </tr>\n",
              "    <tr>\n",
              "      <th>3</th>\n",
              "      <td>107</td>\n",
              "      <td>0.062076</td>\n",
              "    </tr>\n",
              "    <tr>\n",
              "      <th>4</th>\n",
              "      <td>108</td>\n",
              "      <td>0.142995</td>\n",
              "    </tr>\n",
              "  </tbody>\n",
              "</table>\n",
              "</div>\n",
              "      <button class=\"colab-df-convert\" onclick=\"convertToInteractive('df-5275c025-50fd-4591-973e-9a0e3812bc69')\"\n",
              "              title=\"Convert this dataframe to an interactive table.\"\n",
              "              style=\"display:none;\">\n",
              "        \n",
              "  <svg xmlns=\"http://www.w3.org/2000/svg\" height=\"24px\"viewBox=\"0 0 24 24\"\n",
              "       width=\"24px\">\n",
              "    <path d=\"M0 0h24v24H0V0z\" fill=\"none\"/>\n",
              "    <path d=\"M18.56 5.44l.94 2.06.94-2.06 2.06-.94-2.06-.94-.94-2.06-.94 2.06-2.06.94zm-11 1L8.5 8.5l.94-2.06 2.06-.94-2.06-.94L8.5 2.5l-.94 2.06-2.06.94zm10 10l.94 2.06.94-2.06 2.06-.94-2.06-.94-.94-2.06-.94 2.06-2.06.94z\"/><path d=\"M17.41 7.96l-1.37-1.37c-.4-.4-.92-.59-1.43-.59-.52 0-1.04.2-1.43.59L10.3 9.45l-7.72 7.72c-.78.78-.78 2.05 0 2.83L4 21.41c.39.39.9.59 1.41.59.51 0 1.02-.2 1.41-.59l7.78-7.78 2.81-2.81c.8-.78.8-2.07 0-2.86zM5.41 20L4 18.59l7.72-7.72 1.47 1.35L5.41 20z\"/>\n",
              "  </svg>\n",
              "      </button>\n",
              "      \n",
              "  <style>\n",
              "    .colab-df-container {\n",
              "      display:flex;\n",
              "      flex-wrap:wrap;\n",
              "      gap: 12px;\n",
              "    }\n",
              "\n",
              "    .colab-df-convert {\n",
              "      background-color: #E8F0FE;\n",
              "      border: none;\n",
              "      border-radius: 50%;\n",
              "      cursor: pointer;\n",
              "      display: none;\n",
              "      fill: #1967D2;\n",
              "      height: 32px;\n",
              "      padding: 0 0 0 0;\n",
              "      width: 32px;\n",
              "    }\n",
              "\n",
              "    .colab-df-convert:hover {\n",
              "      background-color: #E2EBFA;\n",
              "      box-shadow: 0px 1px 2px rgba(60, 64, 67, 0.3), 0px 1px 3px 1px rgba(60, 64, 67, 0.15);\n",
              "      fill: #174EA6;\n",
              "    }\n",
              "\n",
              "    [theme=dark] .colab-df-convert {\n",
              "      background-color: #3B4455;\n",
              "      fill: #D2E3FC;\n",
              "    }\n",
              "\n",
              "    [theme=dark] .colab-df-convert:hover {\n",
              "      background-color: #434B5C;\n",
              "      box-shadow: 0px 1px 3px 1px rgba(0, 0, 0, 0.15);\n",
              "      filter: drop-shadow(0px 1px 2px rgba(0, 0, 0, 0.3));\n",
              "      fill: #FFFFFF;\n",
              "    }\n",
              "  </style>\n",
              "\n",
              "      <script>\n",
              "        const buttonEl =\n",
              "          document.querySelector('#df-5275c025-50fd-4591-973e-9a0e3812bc69 button.colab-df-convert');\n",
              "        buttonEl.style.display =\n",
              "          google.colab.kernel.accessAllowed ? 'block' : 'none';\n",
              "\n",
              "        async function convertToInteractive(key) {\n",
              "          const element = document.querySelector('#df-5275c025-50fd-4591-973e-9a0e3812bc69');\n",
              "          const dataTable =\n",
              "            await google.colab.kernel.invokeFunction('convertToInteractive',\n",
              "                                                     [key], {});\n",
              "          if (!dataTable) return;\n",
              "\n",
              "          const docLinkHtml = 'Like what you see? Visit the ' +\n",
              "            '<a target=\"_blank\" href=https://colab.research.google.com/notebooks/data_table.ipynb>data table notebook</a>'\n",
              "            + ' to learn more about interactive tables.';\n",
              "          element.innerHTML = '';\n",
              "          dataTable['output_type'] = 'display_data';\n",
              "          await google.colab.output.renderOutput(dataTable, element);\n",
              "          const docLink = document.createElement('div');\n",
              "          docLink.innerHTML = docLinkHtml;\n",
              "          element.appendChild(docLink);\n",
              "        }\n",
              "      </script>\n",
              "    </div>\n",
              "  </div>\n",
              "  "
            ]
          },
          "metadata": {},
          "execution_count": 184
        }
      ]
    },
    {
      "cell_type": "code",
      "source": [
        "print(\"Second lowest value of each column is:\")\n",
        "result = df.sort_values( by = ['score'])\n",
        "\n",
        "print(\"The store id closest to store id 111 is :\")\n",
        "print(result.iloc[1,0])"
      ],
      "metadata": {
        "colab": {
          "base_uri": "https://localhost:8080/"
        },
        "id": "cD8GCHmDFdXo",
        "outputId": "a25c7645-b4f4-43de-c7a5-d077d4d28fff"
      },
      "execution_count": 183,
      "outputs": [
        {
          "output_type": "stream",
          "name": "stdout",
          "text": [
            "Second lowest value of each column is:\n",
            "The store id closest to store id 111 is :\n",
            "5035\n"
          ]
        }
      ]
    },
    {
      "cell_type": "markdown",
      "source": [
        "## Data set 2"
      ],
      "metadata": {
        "id": "TwVpEsTKqYKn"
      }
    },
    {
      "cell_type": "code",
      "source": [
        "# Upload control file as dataframe\n",
        "#df_con =pd.read_csv('newproductcontroldata.csv')\n",
        "#df_treat =pd.read_csv('grapeproducttreatmentstores.csv')\n",
        "\n",
        "df_con.head()"
      ],
      "metadata": {
        "colab": {
          "base_uri": "https://localhost:8080/",
          "height": 206
        },
        "id": "exYkEqxsBudr",
        "outputId": "2427efc5-2615-47e3-a7d0-d2a154b90ba2"
      },
      "execution_count": 4,
      "outputs": [
        {
          "output_type": "execute_result",
          "data": {
            "text/plain": [
              "   Store ID        City State  Zip Code  Category Sales  Product Count   Size\n",
              "0         1   ALABASTER    AL     35007           18.88              1  Large\n",
              "1         2  BIRMINGHAM    AL     35209        44125.66              6  Large\n",
              "2         3     DECATUR    AL     35601        46627.92              5  Large\n",
              "3         4  HUNTSVILLE    AL     35806        26658.48              6  Large\n",
              "4         5      MOBILE    AL     36606         1863.60              3  Large"
            ],
            "text/html": [
              "\n",
              "  <div id=\"df-e0349462-77ae-4ab6-8afd-946c37a36fdc\">\n",
              "    <div class=\"colab-df-container\">\n",
              "      <div>\n",
              "<style scoped>\n",
              "    .dataframe tbody tr th:only-of-type {\n",
              "        vertical-align: middle;\n",
              "    }\n",
              "\n",
              "    .dataframe tbody tr th {\n",
              "        vertical-align: top;\n",
              "    }\n",
              "\n",
              "    .dataframe thead th {\n",
              "        text-align: right;\n",
              "    }\n",
              "</style>\n",
              "<table border=\"1\" class=\"dataframe\">\n",
              "  <thead>\n",
              "    <tr style=\"text-align: right;\">\n",
              "      <th></th>\n",
              "      <th>Store ID</th>\n",
              "      <th>City</th>\n",
              "      <th>State</th>\n",
              "      <th>Zip Code</th>\n",
              "      <th>Category Sales</th>\n",
              "      <th>Product Count</th>\n",
              "      <th>Size</th>\n",
              "    </tr>\n",
              "  </thead>\n",
              "  <tbody>\n",
              "    <tr>\n",
              "      <th>0</th>\n",
              "      <td>1</td>\n",
              "      <td>ALABASTER</td>\n",
              "      <td>AL</td>\n",
              "      <td>35007</td>\n",
              "      <td>18.88</td>\n",
              "      <td>1</td>\n",
              "      <td>Large</td>\n",
              "    </tr>\n",
              "    <tr>\n",
              "      <th>1</th>\n",
              "      <td>2</td>\n",
              "      <td>BIRMINGHAM</td>\n",
              "      <td>AL</td>\n",
              "      <td>35209</td>\n",
              "      <td>44125.66</td>\n",
              "      <td>6</td>\n",
              "      <td>Large</td>\n",
              "    </tr>\n",
              "    <tr>\n",
              "      <th>2</th>\n",
              "      <td>3</td>\n",
              "      <td>DECATUR</td>\n",
              "      <td>AL</td>\n",
              "      <td>35601</td>\n",
              "      <td>46627.92</td>\n",
              "      <td>5</td>\n",
              "      <td>Large</td>\n",
              "    </tr>\n",
              "    <tr>\n",
              "      <th>3</th>\n",
              "      <td>4</td>\n",
              "      <td>HUNTSVILLE</td>\n",
              "      <td>AL</td>\n",
              "      <td>35806</td>\n",
              "      <td>26658.48</td>\n",
              "      <td>6</td>\n",
              "      <td>Large</td>\n",
              "    </tr>\n",
              "    <tr>\n",
              "      <th>4</th>\n",
              "      <td>5</td>\n",
              "      <td>MOBILE</td>\n",
              "      <td>AL</td>\n",
              "      <td>36606</td>\n",
              "      <td>1863.60</td>\n",
              "      <td>3</td>\n",
              "      <td>Large</td>\n",
              "    </tr>\n",
              "  </tbody>\n",
              "</table>\n",
              "</div>\n",
              "      <button class=\"colab-df-convert\" onclick=\"convertToInteractive('df-e0349462-77ae-4ab6-8afd-946c37a36fdc')\"\n",
              "              title=\"Convert this dataframe to an interactive table.\"\n",
              "              style=\"display:none;\">\n",
              "        \n",
              "  <svg xmlns=\"http://www.w3.org/2000/svg\" height=\"24px\"viewBox=\"0 0 24 24\"\n",
              "       width=\"24px\">\n",
              "    <path d=\"M0 0h24v24H0V0z\" fill=\"none\"/>\n",
              "    <path d=\"M18.56 5.44l.94 2.06.94-2.06 2.06-.94-2.06-.94-.94-2.06-.94 2.06-2.06.94zm-11 1L8.5 8.5l.94-2.06 2.06-.94-2.06-.94L8.5 2.5l-.94 2.06-2.06.94zm10 10l.94 2.06.94-2.06 2.06-.94-2.06-.94-.94-2.06-.94 2.06-2.06.94z\"/><path d=\"M17.41 7.96l-1.37-1.37c-.4-.4-.92-.59-1.43-.59-.52 0-1.04.2-1.43.59L10.3 9.45l-7.72 7.72c-.78.78-.78 2.05 0 2.83L4 21.41c.39.39.9.59 1.41.59.51 0 1.02-.2 1.41-.59l7.78-7.78 2.81-2.81c.8-.78.8-2.07 0-2.86zM5.41 20L4 18.59l7.72-7.72 1.47 1.35L5.41 20z\"/>\n",
              "  </svg>\n",
              "      </button>\n",
              "      \n",
              "  <style>\n",
              "    .colab-df-container {\n",
              "      display:flex;\n",
              "      flex-wrap:wrap;\n",
              "      gap: 12px;\n",
              "    }\n",
              "\n",
              "    .colab-df-convert {\n",
              "      background-color: #E8F0FE;\n",
              "      border: none;\n",
              "      border-radius: 50%;\n",
              "      cursor: pointer;\n",
              "      display: none;\n",
              "      fill: #1967D2;\n",
              "      height: 32px;\n",
              "      padding: 0 0 0 0;\n",
              "      width: 32px;\n",
              "    }\n",
              "\n",
              "    .colab-df-convert:hover {\n",
              "      background-color: #E2EBFA;\n",
              "      box-shadow: 0px 1px 2px rgba(60, 64, 67, 0.3), 0px 1px 3px 1px rgba(60, 64, 67, 0.15);\n",
              "      fill: #174EA6;\n",
              "    }\n",
              "\n",
              "    [theme=dark] .colab-df-convert {\n",
              "      background-color: #3B4455;\n",
              "      fill: #D2E3FC;\n",
              "    }\n",
              "\n",
              "    [theme=dark] .colab-df-convert:hover {\n",
              "      background-color: #434B5C;\n",
              "      box-shadow: 0px 1px 3px 1px rgba(0, 0, 0, 0.15);\n",
              "      filter: drop-shadow(0px 1px 2px rgba(0, 0, 0, 0.3));\n",
              "      fill: #FFFFFF;\n",
              "    }\n",
              "  </style>\n",
              "\n",
              "      <script>\n",
              "        const buttonEl =\n",
              "          document.querySelector('#df-e0349462-77ae-4ab6-8afd-946c37a36fdc button.colab-df-convert');\n",
              "        buttonEl.style.display =\n",
              "          google.colab.kernel.accessAllowed ? 'block' : 'none';\n",
              "\n",
              "        async function convertToInteractive(key) {\n",
              "          const element = document.querySelector('#df-e0349462-77ae-4ab6-8afd-946c37a36fdc');\n",
              "          const dataTable =\n",
              "            await google.colab.kernel.invokeFunction('convertToInteractive',\n",
              "                                                     [key], {});\n",
              "          if (!dataTable) return;\n",
              "\n",
              "          const docLinkHtml = 'Like what you see? Visit the ' +\n",
              "            '<a target=\"_blank\" href=https://colab.research.google.com/notebooks/data_table.ipynb>data table notebook</a>'\n",
              "            + ' to learn more about interactive tables.';\n",
              "          element.innerHTML = '';\n",
              "          dataTable['output_type'] = 'display_data';\n",
              "          await google.colab.output.renderOutput(dataTable, element);\n",
              "          const docLink = document.createElement('div');\n",
              "          docLink.innerHTML = docLinkHtml;\n",
              "          element.appendChild(docLink);\n",
              "        }\n",
              "      </script>\n",
              "    </div>\n",
              "  </div>\n",
              "  "
            ]
          },
          "metadata": {},
          "execution_count": 4
        }
      ]
    },
    {
      "cell_type": "code",
      "source": [
        "df_con.shape"
      ],
      "metadata": {
        "colab": {
          "base_uri": "https://localhost:8080/"
        },
        "id": "ZQVQNFVUJXRZ",
        "outputId": "a3e5e708-70c3-44f7-d5c9-26c5b880bbae"
      },
      "execution_count": 35,
      "outputs": [
        {
          "output_type": "execute_result",
          "data": {
            "text/plain": [
              "(7008, 7)"
            ]
          },
          "metadata": {},
          "execution_count": 35
        }
      ]
    },
    {
      "cell_type": "code",
      "source": [
        "df_con.iloc[332,:]"
      ],
      "metadata": {
        "colab": {
          "base_uri": "https://localhost:8080/"
        },
        "id": "WA3yr4RBKG6U",
        "outputId": "85c10684-9b9e-4a7b-973f-71b1eb50b49e"
      },
      "execution_count": 39,
      "outputs": [
        {
          "output_type": "execute_result",
          "data": {
            "text/plain": [
              "Store ID                333\n",
              "City              Hawthorne\n",
              "State                    CA\n",
              "Zip Code              90250\n",
              "Category Sales       465.14\n",
              "Product Count             4\n",
              "Size                  Large\n",
              "Name: 332, dtype: object"
            ]
          },
          "metadata": {},
          "execution_count": 39
        }
      ]
    }
  ]
}