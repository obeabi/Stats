{
  "nbformat": 4,
  "nbformat_minor": 0,
  "metadata": {
    "colab": {
      "provenance": [],
      "authorship_tag": "ABX9TyOfSTUTcg3WpEUJyR74pzRN",
      "include_colab_link": true
    },
    "kernelspec": {
      "name": "python3",
      "display_name": "Python 3"
    },
    "language_info": {
      "name": "python"
    }
  },
  "cells": [
    {
      "cell_type": "markdown",
      "metadata": {
        "id": "view-in-github",
        "colab_type": "text"
      },
      "source": [
        "<a href=\"https://colab.research.google.com/github/obeabi/Stats/blob/main/Daysof_Week.ipynb\" target=\"_parent\"><img src=\"https://colab.research.google.com/assets/colab-badge.svg\" alt=\"Open In Colab\"/></a>"
      ]
    },
    {
      "cell_type": "markdown",
      "source": [
        "# Objectives\n",
        "\n",
        "1. i mproving the student's skills in defining classes from scratch;\n",
        "1. defining and using instance variables;\n",
        "1. defining and using methods.\n",
        "\n",
        "## Scenario\n",
        "Your task is to implement a class called Weeker. Yes, your eyes don't deceive you – this name comes from the fact that objects of that class will be able to store and to manipulate the days of the week.\n",
        "\n",
        "The class constructor accepts one argument – a string. The string represents the name of the day of the week and the only acceptable values must come from the following set:\n",
        "\n",
        "Mon Tue Wed Thu Fri Sat Sun\n",
        "\n",
        "Invoking the constructor with an argument from outside this set should raise the WeekDayError exception (define it yourself; don't worry, we'll talk about the objective nature of exceptions soon). The class should provide the following facilities:\n",
        "\n",
        "1. objects of the class should be \"printable\", i.e. they should be able to implicitly convert themselves into strings of the same form as the constructor arguments;\n",
        "\n",
        "1. the class should be equipped with one-parameter methods called add_days(n) and subtract_days(n), with n being an integer number and updating the day of week stored inside the object in the way reflecting the change of date by the indicated number of days, forward or backward.\n",
        "\n",
        "1. all object's properties should be private;\n",
        "\n",
        "\n",
        "Complete the template we've provided in the editor and run your code and check whether your output looks the same as ours.\n",
        "\n",
        "\n",
        "## Expected output\n",
        "_Mon_\n",
        "\n",
        "_Tue_\n",
        "\n",
        "_Sun_\n",
        "\n",
        "_Sorry, I can't serve your request._"
      ],
      "metadata": {
        "id": "iGeh8LAYvfos"
      }
    },
    {
      "cell_type": "code",
      "source": [
        "class WeekDayError(Exception):\n",
        "    pass\n",
        "\t\n",
        "\n",
        "class Weeker:\n",
        "    #\n",
        "    # Write code here.\n",
        "    #\n",
        "\n",
        "    def __init__(self, day):\n",
        "        #\n",
        "        # Write code here.\n",
        "        self.__day = day\n",
        "        self.__my_list = ['Mon','Tue', 'Wed', 'Thu','Fri', 'Sat','Sun']\n",
        "        if self.__day not in self.__my_list:\n",
        "            raise WeekDayError()\n",
        "\n",
        "    def __str__(self):\n",
        "        #\n",
        "        # Write code here.\n",
        "        return self.__day\n",
        "\n",
        "    def add_days(self, n):\n",
        "        #\n",
        "        # Write code here.\n",
        "        current_index = self.__my_list.index(self.__day)\n",
        "        for _ in range(0,n):\n",
        "            current_index = (current_index + 1)%len(self.__my_list)\n",
        "        self.__day = self.__my_list[current_index]\n",
        "            \n",
        "\n",
        "    def subtract_days(self, n):\n",
        "        #\n",
        "        # Write code here.\n",
        "        current_index = self.__my_list.index(self.__day)\n",
        "        for _ in range(0,n):\n",
        "            current_index = (current_index - 1)%len(self.__my_list)\n",
        "        self.__day = self.__my_list[current_index]\n",
        "        \n",
        "\n",
        "\n",
        "try:\n",
        "    weekday = Weeker('Mon')\n",
        "    print(weekday)\n",
        "    weekday.add_days(15)\n",
        "    print(weekday)\n",
        "    weekday.subtract_days(23)\n",
        "    print(weekday)\n",
        "    weekday = Weeker('Monday')\n",
        "except WeekDayError:\n",
        "    print(\"Sorry, I can't serve your request.\")\n",
        "   "
      ],
      "metadata": {
        "colab": {
          "base_uri": "https://localhost:8080/"
        },
        "id": "BhtXfDbbvJLO",
        "outputId": "5228d2ac-ae27-4801-c8d9-9ba118713b65"
      },
      "execution_count": 28,
      "outputs": [
        {
          "output_type": "stream",
          "name": "stdout",
          "text": [
            "Mon\n",
            "Tue\n",
            "Sun\n",
            "Sorry, I can't serve your request.\n"
          ]
        }
      ]
    }
  ]
}