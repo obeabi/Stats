{
  "nbformat": 4,
  "nbformat_minor": 0,
  "metadata": {
    "colab": {
      "provenance": [],
      "authorship_tag": "ABX9TyM6tHDuLa9VdKlDzkKzcGZ/",
      "include_colab_link": true
    },
    "kernelspec": {
      "name": "python3",
      "display_name": "Python 3"
    },
    "language_info": {
      "name": "python"
    }
  },
  "cells": [
    {
      "cell_type": "markdown",
      "metadata": {
        "id": "view-in-github",
        "colab_type": "text"
      },
      "source": [
        "<a href=\"https://colab.research.google.com/github/obeabi/Stats/blob/main/AB_Test_Clicks.ipynb\" target=\"_parent\"><img src=\"https://colab.research.google.com/assets/colab-badge.svg\" alt=\"Open In Colab\"/></a>"
      ]
    },
    {
      "cell_type": "markdown",
      "source": [
        "## Hands-on Hypothesis Testing Workshop with Python ( A/B Testing)\n",
        "## Date: 28th April 2023\n",
        "## Prepared by : Abiola Obembe\n",
        "## Sponsored by : Analysts HQ"
      ],
      "metadata": {
        "id": "9aEPEHWQbfmQ"
      }
    },
    {
      "cell_type": "code",
      "execution_count": null,
      "metadata": {
        "id": "vUVYt5febWCJ"
      },
      "outputs": [],
      "source": [
        "# Install dependcies\n",
        "!pip install pingouin\n",
        "import numpy as np\n",
        "import pandas as pd\n",
        "import matplotlib.pyplot as plt\n",
        "import seaborn as sns\n",
        "import random\n",
        "\n",
        "from scipy.stats import norm, t, mannwhitneyu, fisher_exact, ttest_1samp,ttest_ind\n",
        "from statsmodels.graphics.mosaicplot import mosaic\n",
        "\n",
        "\n",
        "import statsmodels.api as sm\n",
        "from statsmodels.stats.weightstats import ztest\n",
        "from statsmodels.formula.api import ols\n",
        "\n",
        "from pingouin import ttest, mwu, wilcoxon,ancova,anova, rm_anova,pairwise,pairwise_ttests,pairwise_tukey,compute_effsize, contingency\n",
        "\n",
        "\n",
        "plt.rcParams['figure.figsize'] = (10.0, 8.0) # set default size of plots\n",
        "plt.rcParams['image.interpolation'] = 'nearest'\n",
        "plt.rcParams['image.cmap'] = 'gray'\n",
        "%matplotlib inline\n",
        "print(\"libraries installed succesfully!\")"
      ]
    }
  ]
}